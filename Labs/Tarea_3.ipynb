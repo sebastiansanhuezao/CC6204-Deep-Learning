{
  "nbformat": 4,
  "nbformat_minor": 0,
  "metadata": {
    "colab": {
      "provenance": [],
      "gpuType": "T4"
    },
    "kernelspec": {
      "name": "python3",
      "display_name": "Python 3"
    },
    "language_info": {
      "name": "python"
    },
    "accelerator": "GPU"
  },
  "cells": [
    {
      "cell_type": "markdown",
      "source": [
        "# **Tarea 3**\n",
        "\n",
        "## **CC6204 - Deep Learning**\n",
        "\n",
        "- **Profesor:** Iván Sipiran\n",
        "- **Ayudantes:** Camila Figueroa Acevedo, Gustavo Santelices, Sofia Capibara Chávez Bastidas, Victor Faraggi V.\n",
        "- **Estudiante:** Sebastián Sanhueza\n",
        "\n",
        "En esta tarea van a crear una red neuronal que clasifique mensajes como spam o no spam. Lo primero es descargar la data:"
      ],
      "metadata": {
        "id": "bnpr1VPKUwY9"
      }
    },
    {
      "cell_type": "code",
      "execution_count": 1,
      "metadata": {
        "id": "ZkXXLb0VUmFX",
        "colab": {
          "base_uri": "https://localhost:8080/"
        },
        "outputId": "bb5ec0d4-30f1-4943-bc05-fc65cdf3bcb5"
      },
      "outputs": [
        {
          "output_type": "stream",
          "name": "stdout",
          "text": [
            "--2023-11-20 02:25:28--  https://www.ivan-sipiran.com/downloads/spam.csv\n",
            "Resolving www.ivan-sipiran.com (www.ivan-sipiran.com)... 66.96.149.31\n",
            "Connecting to www.ivan-sipiran.com (www.ivan-sipiran.com)|66.96.149.31|:443... connected.\n",
            "HTTP request sent, awaiting response... 200 OK\n",
            "Length: 471781 (461K)\n",
            "Saving to: ‘spam.csv’\n",
            "\n",
            "spam.csv            100%[===================>] 460.72K  1.62MB/s    in 0.3s    \n",
            "\n",
            "2023-11-20 02:25:29 (1.62 MB/s) - ‘spam.csv’ saved [471781/471781]\n",
            "\n"
          ]
        }
      ],
      "source": [
        "!wget https://www.ivan-sipiran.com/downloads/spam.csv"
      ]
    },
    {
      "cell_type": "markdown",
      "source": [
        "Los datos vienen en un archivo CSV que contiene dos columnas \"text\" y \"label\". La columna \"text\" contiene el texto del mensaje y la columna \"label\" contiene las etiquetas \"ham\" y \"spam\". Un mensaje \"ham\" es un mensaje que no se considera spam.\n",
        "\n",
        "# Tarea\n",
        "El objetivo de la tarea es crear una red neuronal que clasifique los datos entregados. Para lograr esto debes:\n",
        "\n",
        "\n",
        "\n",
        "*   Implementar el pre-procesamiento de los datos que creas necesario.\n",
        "*   Particionar los datos en 70% entrenamiento, 10% validación y 20% test.\n",
        "*   Usa los datos de entrenamiento y valiadación para tus experimentos y sólo usa el conjunto de test para reportar el resultado final.\n",
        "\n",
        "Para el diseño de la red neuronal puedes usar una red neuronal recurrente o una red basada en transformers. El objetivo de la tarea no es obtener el performance ultra máximo, sino entender qué decisiones de diseño afectan la solución de un problema como este. Lo que si es necesario (como siempre) es que discutas los resultados y decisiones realizadas.\n",
        "\n"
      ],
      "metadata": {
        "id": "H9567d6oVknI"
      }
    },
    {
      "cell_type": "markdown",
      "source": [
        "## Pre-procesamiento de datos"
      ],
      "metadata": {
        "id": "7unARlE0Te26"
      }
    },
    {
      "cell_type": "markdown",
      "source": [
        "### Análisis de los datos"
      ],
      "metadata": {
        "id": "SHtbs0Z2iijj"
      }
    },
    {
      "cell_type": "code",
      "source": [
        "# Librerías\n",
        "import pandas as pd\n",
        "import numpy as np\n",
        "import seaborn as sns\n",
        "from string import punctuation\n",
        "from collections import Counter\n",
        "import torch\n",
        "import torch.nn as nn\n",
        "from torch.utils.data import TensorDataset, DataLoader"
      ],
      "metadata": {
        "id": "M_D6YOCHl_hS"
      },
      "execution_count": 2,
      "outputs": []
    },
    {
      "cell_type": "code",
      "source": [
        "# Seed para numpy\n",
        "np_seed = 42\n",
        "np.random.seed(np_seed)\n",
        "\n",
        "# Seed para torch\n",
        "torch_seed = 42\n",
        "torch.manual_seed(torch_seed)\n",
        "\n",
        "# Seed para torch en CUDA (si se está utilizando)\n",
        "if torch.cuda.is_available():\n",
        "    torch.backends.cudnn.deterministic = True\n",
        "    torch.backends.cudnn.benchmark = False\n",
        "    torch.cuda.manual_seed_all(torch_seed)\n"
      ],
      "metadata": {
        "id": "tk50-x9bdEra"
      },
      "execution_count": 3,
      "outputs": []
    },
    {
      "cell_type": "code",
      "source": [
        "# Carga de la data\n",
        "df=pd.read_csv(\"spam.csv\")\n",
        "df.head(10)"
      ],
      "metadata": {
        "colab": {
          "base_uri": "https://localhost:8080/",
          "height": 363
        },
        "id": "u7Wdyb3Pl89S",
        "outputId": "27a36e0e-a76c-41ce-ae1e-3cae9634d8a8"
      },
      "execution_count": 4,
      "outputs": [
        {
          "output_type": "execute_result",
          "data": {
            "text/plain": [
              "                                                text label\n",
              "0  Go until jurong point, crazy.. Available only ...   ham\n",
              "1                      Ok lar... Joking wif u oni...   ham\n",
              "2  Free entry in 2 a wkly comp to win FA Cup fina...  spam\n",
              "3  U dun say so early hor... U c already then say...   ham\n",
              "4  Nah I don't think he goes to usf, he lives aro...   ham\n",
              "5  FreeMsg Hey there darling it's been 3 week's n...  spam\n",
              "6  Even my brother is not like to speak with me. ...   ham\n",
              "7  As per your request 'Melle Melle (Oru Minnamin...   ham\n",
              "8  WINNER!! As a valued network customer you have...  spam\n",
              "9  Had your mobile 11 months or more? U R entitle...  spam"
            ],
            "text/html": [
              "\n",
              "  <div id=\"df-91d8a6b8-fa70-46f1-8d7c-6e60cffc84b4\" class=\"colab-df-container\">\n",
              "    <div>\n",
              "<style scoped>\n",
              "    .dataframe tbody tr th:only-of-type {\n",
              "        vertical-align: middle;\n",
              "    }\n",
              "\n",
              "    .dataframe tbody tr th {\n",
              "        vertical-align: top;\n",
              "    }\n",
              "\n",
              "    .dataframe thead th {\n",
              "        text-align: right;\n",
              "    }\n",
              "</style>\n",
              "<table border=\"1\" class=\"dataframe\">\n",
              "  <thead>\n",
              "    <tr style=\"text-align: right;\">\n",
              "      <th></th>\n",
              "      <th>text</th>\n",
              "      <th>label</th>\n",
              "    </tr>\n",
              "  </thead>\n",
              "  <tbody>\n",
              "    <tr>\n",
              "      <th>0</th>\n",
              "      <td>Go until jurong point, crazy.. Available only ...</td>\n",
              "      <td>ham</td>\n",
              "    </tr>\n",
              "    <tr>\n",
              "      <th>1</th>\n",
              "      <td>Ok lar... Joking wif u oni...</td>\n",
              "      <td>ham</td>\n",
              "    </tr>\n",
              "    <tr>\n",
              "      <th>2</th>\n",
              "      <td>Free entry in 2 a wkly comp to win FA Cup fina...</td>\n",
              "      <td>spam</td>\n",
              "    </tr>\n",
              "    <tr>\n",
              "      <th>3</th>\n",
              "      <td>U dun say so early hor... U c already then say...</td>\n",
              "      <td>ham</td>\n",
              "    </tr>\n",
              "    <tr>\n",
              "      <th>4</th>\n",
              "      <td>Nah I don't think he goes to usf, he lives aro...</td>\n",
              "      <td>ham</td>\n",
              "    </tr>\n",
              "    <tr>\n",
              "      <th>5</th>\n",
              "      <td>FreeMsg Hey there darling it's been 3 week's n...</td>\n",
              "      <td>spam</td>\n",
              "    </tr>\n",
              "    <tr>\n",
              "      <th>6</th>\n",
              "      <td>Even my brother is not like to speak with me. ...</td>\n",
              "      <td>ham</td>\n",
              "    </tr>\n",
              "    <tr>\n",
              "      <th>7</th>\n",
              "      <td>As per your request 'Melle Melle (Oru Minnamin...</td>\n",
              "      <td>ham</td>\n",
              "    </tr>\n",
              "    <tr>\n",
              "      <th>8</th>\n",
              "      <td>WINNER!! As a valued network customer you have...</td>\n",
              "      <td>spam</td>\n",
              "    </tr>\n",
              "    <tr>\n",
              "      <th>9</th>\n",
              "      <td>Had your mobile 11 months or more? U R entitle...</td>\n",
              "      <td>spam</td>\n",
              "    </tr>\n",
              "  </tbody>\n",
              "</table>\n",
              "</div>\n",
              "    <div class=\"colab-df-buttons\">\n",
              "\n",
              "  <div class=\"colab-df-container\">\n",
              "    <button class=\"colab-df-convert\" onclick=\"convertToInteractive('df-91d8a6b8-fa70-46f1-8d7c-6e60cffc84b4')\"\n",
              "            title=\"Convert this dataframe to an interactive table.\"\n",
              "            style=\"display:none;\">\n",
              "\n",
              "  <svg xmlns=\"http://www.w3.org/2000/svg\" height=\"24px\" viewBox=\"0 -960 960 960\">\n",
              "    <path d=\"M120-120v-720h720v720H120Zm60-500h600v-160H180v160Zm220 220h160v-160H400v160Zm0 220h160v-160H400v160ZM180-400h160v-160H180v160Zm440 0h160v-160H620v160ZM180-180h160v-160H180v160Zm440 0h160v-160H620v160Z\"/>\n",
              "  </svg>\n",
              "    </button>\n",
              "\n",
              "  <style>\n",
              "    .colab-df-container {\n",
              "      display:flex;\n",
              "      gap: 12px;\n",
              "    }\n",
              "\n",
              "    .colab-df-convert {\n",
              "      background-color: #E8F0FE;\n",
              "      border: none;\n",
              "      border-radius: 50%;\n",
              "      cursor: pointer;\n",
              "      display: none;\n",
              "      fill: #1967D2;\n",
              "      height: 32px;\n",
              "      padding: 0 0 0 0;\n",
              "      width: 32px;\n",
              "    }\n",
              "\n",
              "    .colab-df-convert:hover {\n",
              "      background-color: #E2EBFA;\n",
              "      box-shadow: 0px 1px 2px rgba(60, 64, 67, 0.3), 0px 1px 3px 1px rgba(60, 64, 67, 0.15);\n",
              "      fill: #174EA6;\n",
              "    }\n",
              "\n",
              "    .colab-df-buttons div {\n",
              "      margin-bottom: 4px;\n",
              "    }\n",
              "\n",
              "    [theme=dark] .colab-df-convert {\n",
              "      background-color: #3B4455;\n",
              "      fill: #D2E3FC;\n",
              "    }\n",
              "\n",
              "    [theme=dark] .colab-df-convert:hover {\n",
              "      background-color: #434B5C;\n",
              "      box-shadow: 0px 1px 3px 1px rgba(0, 0, 0, 0.15);\n",
              "      filter: drop-shadow(0px 1px 2px rgba(0, 0, 0, 0.3));\n",
              "      fill: #FFFFFF;\n",
              "    }\n",
              "  </style>\n",
              "\n",
              "    <script>\n",
              "      const buttonEl =\n",
              "        document.querySelector('#df-91d8a6b8-fa70-46f1-8d7c-6e60cffc84b4 button.colab-df-convert');\n",
              "      buttonEl.style.display =\n",
              "        google.colab.kernel.accessAllowed ? 'block' : 'none';\n",
              "\n",
              "      async function convertToInteractive(key) {\n",
              "        const element = document.querySelector('#df-91d8a6b8-fa70-46f1-8d7c-6e60cffc84b4');\n",
              "        const dataTable =\n",
              "          await google.colab.kernel.invokeFunction('convertToInteractive',\n",
              "                                                    [key], {});\n",
              "        if (!dataTable) return;\n",
              "\n",
              "        const docLinkHtml = 'Like what you see? Visit the ' +\n",
              "          '<a target=\"_blank\" href=https://colab.research.google.com/notebooks/data_table.ipynb>data table notebook</a>'\n",
              "          + ' to learn more about interactive tables.';\n",
              "        element.innerHTML = '';\n",
              "        dataTable['output_type'] = 'display_data';\n",
              "        await google.colab.output.renderOutput(dataTable, element);\n",
              "        const docLink = document.createElement('div');\n",
              "        docLink.innerHTML = docLinkHtml;\n",
              "        element.appendChild(docLink);\n",
              "      }\n",
              "    </script>\n",
              "  </div>\n",
              "\n",
              "\n",
              "<div id=\"df-0b05f86e-80fe-4d2e-959a-cf514304e59d\">\n",
              "  <button class=\"colab-df-quickchart\" onclick=\"quickchart('df-0b05f86e-80fe-4d2e-959a-cf514304e59d')\"\n",
              "            title=\"Suggest charts\"\n",
              "            style=\"display:none;\">\n",
              "\n",
              "<svg xmlns=\"http://www.w3.org/2000/svg\" height=\"24px\"viewBox=\"0 0 24 24\"\n",
              "     width=\"24px\">\n",
              "    <g>\n",
              "        <path d=\"M19 3H5c-1.1 0-2 .9-2 2v14c0 1.1.9 2 2 2h14c1.1 0 2-.9 2-2V5c0-1.1-.9-2-2-2zM9 17H7v-7h2v7zm4 0h-2V7h2v10zm4 0h-2v-4h2v4z\"/>\n",
              "    </g>\n",
              "</svg>\n",
              "  </button>\n",
              "\n",
              "<style>\n",
              "  .colab-df-quickchart {\n",
              "      --bg-color: #E8F0FE;\n",
              "      --fill-color: #1967D2;\n",
              "      --hover-bg-color: #E2EBFA;\n",
              "      --hover-fill-color: #174EA6;\n",
              "      --disabled-fill-color: #AAA;\n",
              "      --disabled-bg-color: #DDD;\n",
              "  }\n",
              "\n",
              "  [theme=dark] .colab-df-quickchart {\n",
              "      --bg-color: #3B4455;\n",
              "      --fill-color: #D2E3FC;\n",
              "      --hover-bg-color: #434B5C;\n",
              "      --hover-fill-color: #FFFFFF;\n",
              "      --disabled-bg-color: #3B4455;\n",
              "      --disabled-fill-color: #666;\n",
              "  }\n",
              "\n",
              "  .colab-df-quickchart {\n",
              "    background-color: var(--bg-color);\n",
              "    border: none;\n",
              "    border-radius: 50%;\n",
              "    cursor: pointer;\n",
              "    display: none;\n",
              "    fill: var(--fill-color);\n",
              "    height: 32px;\n",
              "    padding: 0;\n",
              "    width: 32px;\n",
              "  }\n",
              "\n",
              "  .colab-df-quickchart:hover {\n",
              "    background-color: var(--hover-bg-color);\n",
              "    box-shadow: 0 1px 2px rgba(60, 64, 67, 0.3), 0 1px 3px 1px rgba(60, 64, 67, 0.15);\n",
              "    fill: var(--button-hover-fill-color);\n",
              "  }\n",
              "\n",
              "  .colab-df-quickchart-complete:disabled,\n",
              "  .colab-df-quickchart-complete:disabled:hover {\n",
              "    background-color: var(--disabled-bg-color);\n",
              "    fill: var(--disabled-fill-color);\n",
              "    box-shadow: none;\n",
              "  }\n",
              "\n",
              "  .colab-df-spinner {\n",
              "    border: 2px solid var(--fill-color);\n",
              "    border-color: transparent;\n",
              "    border-bottom-color: var(--fill-color);\n",
              "    animation:\n",
              "      spin 1s steps(1) infinite;\n",
              "  }\n",
              "\n",
              "  @keyframes spin {\n",
              "    0% {\n",
              "      border-color: transparent;\n",
              "      border-bottom-color: var(--fill-color);\n",
              "      border-left-color: var(--fill-color);\n",
              "    }\n",
              "    20% {\n",
              "      border-color: transparent;\n",
              "      border-left-color: var(--fill-color);\n",
              "      border-top-color: var(--fill-color);\n",
              "    }\n",
              "    30% {\n",
              "      border-color: transparent;\n",
              "      border-left-color: var(--fill-color);\n",
              "      border-top-color: var(--fill-color);\n",
              "      border-right-color: var(--fill-color);\n",
              "    }\n",
              "    40% {\n",
              "      border-color: transparent;\n",
              "      border-right-color: var(--fill-color);\n",
              "      border-top-color: var(--fill-color);\n",
              "    }\n",
              "    60% {\n",
              "      border-color: transparent;\n",
              "      border-right-color: var(--fill-color);\n",
              "    }\n",
              "    80% {\n",
              "      border-color: transparent;\n",
              "      border-right-color: var(--fill-color);\n",
              "      border-bottom-color: var(--fill-color);\n",
              "    }\n",
              "    90% {\n",
              "      border-color: transparent;\n",
              "      border-bottom-color: var(--fill-color);\n",
              "    }\n",
              "  }\n",
              "</style>\n",
              "\n",
              "  <script>\n",
              "    async function quickchart(key) {\n",
              "      const quickchartButtonEl =\n",
              "        document.querySelector('#' + key + ' button');\n",
              "      quickchartButtonEl.disabled = true;  // To prevent multiple clicks.\n",
              "      quickchartButtonEl.classList.add('colab-df-spinner');\n",
              "      try {\n",
              "        const charts = await google.colab.kernel.invokeFunction(\n",
              "            'suggestCharts', [key], {});\n",
              "      } catch (error) {\n",
              "        console.error('Error during call to suggestCharts:', error);\n",
              "      }\n",
              "      quickchartButtonEl.classList.remove('colab-df-spinner');\n",
              "      quickchartButtonEl.classList.add('colab-df-quickchart-complete');\n",
              "    }\n",
              "    (() => {\n",
              "      let quickchartButtonEl =\n",
              "        document.querySelector('#df-0b05f86e-80fe-4d2e-959a-cf514304e59d button');\n",
              "      quickchartButtonEl.style.display =\n",
              "        google.colab.kernel.accessAllowed ? 'block' : 'none';\n",
              "    })();\n",
              "  </script>\n",
              "</div>\n",
              "    </div>\n",
              "  </div>\n"
            ]
          },
          "metadata": {},
          "execution_count": 4
        }
      ]
    },
    {
      "cell_type": "markdown",
      "source": [
        "Inicialmente, se eliminaron los espacios al inicio y final de las cadenas de texto. Este paso se realizó porque durante el análisis de datos duplicados se encontraron registros idénticos que se diferenciaban únicamente por estos espacios adicionales. Posteriormente, se llevó a cabo un análisis de las dimensiones del conjunto de datos, incluyendo el recuento total de registros y variables originales. Además, se realizó una búsqueda de valores nulos en los datos, ya que la presencia de estos podría llevar a errores en el modelo que se pretende implementar."
      ],
      "metadata": {
        "id": "eb5FmmcHjGFP"
      }
    },
    {
      "cell_type": "code",
      "source": [
        "# Eliminamos los espacios del inicio y del final de cada string\n",
        "df['text']=df['text'].str.strip()\n",
        "df['label']=df['label'].str.strip()\n",
        "\n",
        "# Análisis de las dimensiones del DataFrame\n",
        "n_rows=df.shape[0]\n",
        "n_columns=df.shape[1]\n",
        "print(f\"Cantidad total de registros: {n_rows}\")\n",
        "print(f\"\\nCantidad total de features: {n_columns}\")\n",
        "print(f\"\\nNombre de las columnas: {list(df.columns)}\")\n",
        "\n",
        "# Análisis de valores nulos\n",
        "n_nan_text=df.isna().sum()['text']\n",
        "n_nan_label=df.isna().sum()['label']\n",
        "print(f\"\\nCantidad de valores nulos en cada feature: 'text': {n_nan_text}, 'label': {n_nan_label}\")\n",
        "print(\"\\nRegistros con valores nulos:\")\n",
        "df[df.isna().any(axis=1)]"
      ],
      "metadata": {
        "id": "5pmzo1gcVXvY",
        "colab": {
          "base_uri": "https://localhost:8080/",
          "height": 268
        },
        "outputId": "780a6fe7-dd8b-4406-b855-08fdd23217c2"
      },
      "execution_count": 5,
      "outputs": [
        {
          "output_type": "stream",
          "name": "stdout",
          "text": [
            "Cantidad total de registros: 5572\n",
            "\n",
            "Cantidad total de features: 2\n",
            "\n",
            "Nombre de las columnas: ['text', 'label']\n",
            "\n",
            "Cantidad de valores nulos en cada feature: 'text': 1, 'label': 1\n",
            "\n",
            "Registros con valores nulos:\n"
          ]
        },
        {
          "output_type": "execute_result",
          "data": {
            "text/plain": [
              "                                                   text  \\\n",
              "2115  Well I wasn't available as I washob nobbing wi...   \n",
              "3035                                                NaN   \n",
              "\n",
              "                                label  \n",
              "2115                              NaN  \n",
              "3035  -) ok. I feel like john lennon.  "
            ],
            "text/html": [
              "\n",
              "  <div id=\"df-ae48b27a-9e22-43cc-a2a1-ebfa6e59c829\" class=\"colab-df-container\">\n",
              "    <div>\n",
              "<style scoped>\n",
              "    .dataframe tbody tr th:only-of-type {\n",
              "        vertical-align: middle;\n",
              "    }\n",
              "\n",
              "    .dataframe tbody tr th {\n",
              "        vertical-align: top;\n",
              "    }\n",
              "\n",
              "    .dataframe thead th {\n",
              "        text-align: right;\n",
              "    }\n",
              "</style>\n",
              "<table border=\"1\" class=\"dataframe\">\n",
              "  <thead>\n",
              "    <tr style=\"text-align: right;\">\n",
              "      <th></th>\n",
              "      <th>text</th>\n",
              "      <th>label</th>\n",
              "    </tr>\n",
              "  </thead>\n",
              "  <tbody>\n",
              "    <tr>\n",
              "      <th>2115</th>\n",
              "      <td>Well I wasn't available as I washob nobbing wi...</td>\n",
              "      <td>NaN</td>\n",
              "    </tr>\n",
              "    <tr>\n",
              "      <th>3035</th>\n",
              "      <td>NaN</td>\n",
              "      <td>-) ok. I feel like john lennon.</td>\n",
              "    </tr>\n",
              "  </tbody>\n",
              "</table>\n",
              "</div>\n",
              "    <div class=\"colab-df-buttons\">\n",
              "\n",
              "  <div class=\"colab-df-container\">\n",
              "    <button class=\"colab-df-convert\" onclick=\"convertToInteractive('df-ae48b27a-9e22-43cc-a2a1-ebfa6e59c829')\"\n",
              "            title=\"Convert this dataframe to an interactive table.\"\n",
              "            style=\"display:none;\">\n",
              "\n",
              "  <svg xmlns=\"http://www.w3.org/2000/svg\" height=\"24px\" viewBox=\"0 -960 960 960\">\n",
              "    <path d=\"M120-120v-720h720v720H120Zm60-500h600v-160H180v160Zm220 220h160v-160H400v160Zm0 220h160v-160H400v160ZM180-400h160v-160H180v160Zm440 0h160v-160H620v160ZM180-180h160v-160H180v160Zm440 0h160v-160H620v160Z\"/>\n",
              "  </svg>\n",
              "    </button>\n",
              "\n",
              "  <style>\n",
              "    .colab-df-container {\n",
              "      display:flex;\n",
              "      gap: 12px;\n",
              "    }\n",
              "\n",
              "    .colab-df-convert {\n",
              "      background-color: #E8F0FE;\n",
              "      border: none;\n",
              "      border-radius: 50%;\n",
              "      cursor: pointer;\n",
              "      display: none;\n",
              "      fill: #1967D2;\n",
              "      height: 32px;\n",
              "      padding: 0 0 0 0;\n",
              "      width: 32px;\n",
              "    }\n",
              "\n",
              "    .colab-df-convert:hover {\n",
              "      background-color: #E2EBFA;\n",
              "      box-shadow: 0px 1px 2px rgba(60, 64, 67, 0.3), 0px 1px 3px 1px rgba(60, 64, 67, 0.15);\n",
              "      fill: #174EA6;\n",
              "    }\n",
              "\n",
              "    .colab-df-buttons div {\n",
              "      margin-bottom: 4px;\n",
              "    }\n",
              "\n",
              "    [theme=dark] .colab-df-convert {\n",
              "      background-color: #3B4455;\n",
              "      fill: #D2E3FC;\n",
              "    }\n",
              "\n",
              "    [theme=dark] .colab-df-convert:hover {\n",
              "      background-color: #434B5C;\n",
              "      box-shadow: 0px 1px 3px 1px rgba(0, 0, 0, 0.15);\n",
              "      filter: drop-shadow(0px 1px 2px rgba(0, 0, 0, 0.3));\n",
              "      fill: #FFFFFF;\n",
              "    }\n",
              "  </style>\n",
              "\n",
              "    <script>\n",
              "      const buttonEl =\n",
              "        document.querySelector('#df-ae48b27a-9e22-43cc-a2a1-ebfa6e59c829 button.colab-df-convert');\n",
              "      buttonEl.style.display =\n",
              "        google.colab.kernel.accessAllowed ? 'block' : 'none';\n",
              "\n",
              "      async function convertToInteractive(key) {\n",
              "        const element = document.querySelector('#df-ae48b27a-9e22-43cc-a2a1-ebfa6e59c829');\n",
              "        const dataTable =\n",
              "          await google.colab.kernel.invokeFunction('convertToInteractive',\n",
              "                                                    [key], {});\n",
              "        if (!dataTable) return;\n",
              "\n",
              "        const docLinkHtml = 'Like what you see? Visit the ' +\n",
              "          '<a target=\"_blank\" href=https://colab.research.google.com/notebooks/data_table.ipynb>data table notebook</a>'\n",
              "          + ' to learn more about interactive tables.';\n",
              "        element.innerHTML = '';\n",
              "        dataTable['output_type'] = 'display_data';\n",
              "        await google.colab.output.renderOutput(dataTable, element);\n",
              "        const docLink = document.createElement('div');\n",
              "        docLink.innerHTML = docLinkHtml;\n",
              "        element.appendChild(docLink);\n",
              "      }\n",
              "    </script>\n",
              "  </div>\n",
              "\n",
              "\n",
              "<div id=\"df-0407b8c9-03ef-41ba-9e28-13f66e889061\">\n",
              "  <button class=\"colab-df-quickchart\" onclick=\"quickchart('df-0407b8c9-03ef-41ba-9e28-13f66e889061')\"\n",
              "            title=\"Suggest charts\"\n",
              "            style=\"display:none;\">\n",
              "\n",
              "<svg xmlns=\"http://www.w3.org/2000/svg\" height=\"24px\"viewBox=\"0 0 24 24\"\n",
              "     width=\"24px\">\n",
              "    <g>\n",
              "        <path d=\"M19 3H5c-1.1 0-2 .9-2 2v14c0 1.1.9 2 2 2h14c1.1 0 2-.9 2-2V5c0-1.1-.9-2-2-2zM9 17H7v-7h2v7zm4 0h-2V7h2v10zm4 0h-2v-4h2v4z\"/>\n",
              "    </g>\n",
              "</svg>\n",
              "  </button>\n",
              "\n",
              "<style>\n",
              "  .colab-df-quickchart {\n",
              "      --bg-color: #E8F0FE;\n",
              "      --fill-color: #1967D2;\n",
              "      --hover-bg-color: #E2EBFA;\n",
              "      --hover-fill-color: #174EA6;\n",
              "      --disabled-fill-color: #AAA;\n",
              "      --disabled-bg-color: #DDD;\n",
              "  }\n",
              "\n",
              "  [theme=dark] .colab-df-quickchart {\n",
              "      --bg-color: #3B4455;\n",
              "      --fill-color: #D2E3FC;\n",
              "      --hover-bg-color: #434B5C;\n",
              "      --hover-fill-color: #FFFFFF;\n",
              "      --disabled-bg-color: #3B4455;\n",
              "      --disabled-fill-color: #666;\n",
              "  }\n",
              "\n",
              "  .colab-df-quickchart {\n",
              "    background-color: var(--bg-color);\n",
              "    border: none;\n",
              "    border-radius: 50%;\n",
              "    cursor: pointer;\n",
              "    display: none;\n",
              "    fill: var(--fill-color);\n",
              "    height: 32px;\n",
              "    padding: 0;\n",
              "    width: 32px;\n",
              "  }\n",
              "\n",
              "  .colab-df-quickchart:hover {\n",
              "    background-color: var(--hover-bg-color);\n",
              "    box-shadow: 0 1px 2px rgba(60, 64, 67, 0.3), 0 1px 3px 1px rgba(60, 64, 67, 0.15);\n",
              "    fill: var(--button-hover-fill-color);\n",
              "  }\n",
              "\n",
              "  .colab-df-quickchart-complete:disabled,\n",
              "  .colab-df-quickchart-complete:disabled:hover {\n",
              "    background-color: var(--disabled-bg-color);\n",
              "    fill: var(--disabled-fill-color);\n",
              "    box-shadow: none;\n",
              "  }\n",
              "\n",
              "  .colab-df-spinner {\n",
              "    border: 2px solid var(--fill-color);\n",
              "    border-color: transparent;\n",
              "    border-bottom-color: var(--fill-color);\n",
              "    animation:\n",
              "      spin 1s steps(1) infinite;\n",
              "  }\n",
              "\n",
              "  @keyframes spin {\n",
              "    0% {\n",
              "      border-color: transparent;\n",
              "      border-bottom-color: var(--fill-color);\n",
              "      border-left-color: var(--fill-color);\n",
              "    }\n",
              "    20% {\n",
              "      border-color: transparent;\n",
              "      border-left-color: var(--fill-color);\n",
              "      border-top-color: var(--fill-color);\n",
              "    }\n",
              "    30% {\n",
              "      border-color: transparent;\n",
              "      border-left-color: var(--fill-color);\n",
              "      border-top-color: var(--fill-color);\n",
              "      border-right-color: var(--fill-color);\n",
              "    }\n",
              "    40% {\n",
              "      border-color: transparent;\n",
              "      border-right-color: var(--fill-color);\n",
              "      border-top-color: var(--fill-color);\n",
              "    }\n",
              "    60% {\n",
              "      border-color: transparent;\n",
              "      border-right-color: var(--fill-color);\n",
              "    }\n",
              "    80% {\n",
              "      border-color: transparent;\n",
              "      border-right-color: var(--fill-color);\n",
              "      border-bottom-color: var(--fill-color);\n",
              "    }\n",
              "    90% {\n",
              "      border-color: transparent;\n",
              "      border-bottom-color: var(--fill-color);\n",
              "    }\n",
              "  }\n",
              "</style>\n",
              "\n",
              "  <script>\n",
              "    async function quickchart(key) {\n",
              "      const quickchartButtonEl =\n",
              "        document.querySelector('#' + key + ' button');\n",
              "      quickchartButtonEl.disabled = true;  // To prevent multiple clicks.\n",
              "      quickchartButtonEl.classList.add('colab-df-spinner');\n",
              "      try {\n",
              "        const charts = await google.colab.kernel.invokeFunction(\n",
              "            'suggestCharts', [key], {});\n",
              "      } catch (error) {\n",
              "        console.error('Error during call to suggestCharts:', error);\n",
              "      }\n",
              "      quickchartButtonEl.classList.remove('colab-df-spinner');\n",
              "      quickchartButtonEl.classList.add('colab-df-quickchart-complete');\n",
              "    }\n",
              "    (() => {\n",
              "      let quickchartButtonEl =\n",
              "        document.querySelector('#df-0407b8c9-03ef-41ba-9e28-13f66e889061 button');\n",
              "      quickchartButtonEl.style.display =\n",
              "        google.colab.kernel.accessAllowed ? 'block' : 'none';\n",
              "    })();\n",
              "  </script>\n",
              "</div>\n",
              "    </div>\n",
              "  </div>\n"
            ]
          },
          "metadata": {},
          "execution_count": 5
        }
      ]
    },
    {
      "cell_type": "markdown",
      "source": [
        "Tras el análisis previo, se constató que el conjunto de datos original contiene un total de 5572 registros, con dos variables: `text` y `spam`. Además, se identificó la presencia de datos nulos en dos registros, uno en cada variable. Estos registros serán eliminados durante la etapa de limpieza del dataset."
      ],
      "metadata": {
        "id": "B8kMwTHhkAZZ"
      }
    },
    {
      "cell_type": "markdown",
      "source": [
        "En una segunda etapa, se llevó a cabo una búsqueda de datos duplicados o repetidos más de una vez en el dataset original. La presencia de valores repetidos podría distorsionar los resultados de análisis, impactar la eficiencia de los modelos de machine learning, introducir sesgos y crear inconsistencias en la interpretación de los datos. Identificar y eliminar estos valores duplicados asegura la fiabilidad y calidad de las conclusiones extraídas del conjunto de datos, garantizando así la integridad de cualquier análisis posterior."
      ],
      "metadata": {
        "id": "RCJdW-Xukvil"
      }
    },
    {
      "cell_type": "code",
      "source": [
        "# Análisis de valores duplicados\n",
        "\n",
        "# Creación de un DataFrame que agrega una columna 'count' que realiza el conteo de las veces que aparece\n",
        "# cada registro dentro del DataFrame original\n",
        "repeated_rows=df.groupby(df.columns.tolist()).size().reset_index(name='count')\n",
        "print(f\"\\nResumen de la cantidad de registros con una misma cantidad de repeticiones: \\n{repeated_rows['count'].value_counts()}\")\n",
        "print(f\"\\nCantidad total de registros únicos con más de una aparición en el DataFrame: {repeated_rows[repeated_rows['count']!=1].shape[0]}\")"
      ],
      "metadata": {
        "colab": {
          "base_uri": "https://localhost:8080/"
        },
        "id": "Cf5Y-JrAdIiY",
        "outputId": "467e5769-3e48-4115-f8ba-f6cfbd178745"
      },
      "execution_count": 6,
      "outputs": [
        {
          "output_type": "stream",
          "name": "stdout",
          "text": [
            "\n",
            "Resumen de la cantidad de registros con una misma cantidad de repeticiones: \n",
            "1     4861\n",
            "2      215\n",
            "3       63\n",
            "4        8\n",
            "6        1\n",
            "12       1\n",
            "10       1\n",
            "30       1\n",
            "Name: count, dtype: int64\n",
            "\n",
            "Cantidad total de registros únicos con más de una aparición en el DataFrame: 290\n"
          ]
        }
      ]
    },
    {
      "cell_type": "markdown",
      "source": [
        "Los resultados del análisis revelan la presencia de 290 registros únicos que se repiten más de una vez en el dataset original. Es notable que la mayoría de los datos repetidos se encuentran duplicados, aunque se identificaron tres registros únicos que se repiten más de 10 veces, destacando uno con una frecuencia de 30 repeticiones en el conjunto de datos inicial. Esta observación resalta la necesidad de realizar una minuciosa eliminación de estas repeticiones, ya que pueden impactar negativamente en el rendimiento de los modelos de machine learning, afectando la precisión y confiabilidad de los resultados de clasificación que se buscan obtener."
      ],
      "metadata": {
        "id": "80e1y_Pulj9D"
      }
    },
    {
      "cell_type": "code",
      "source": [
        "# Análisis de registros erróneos\n",
        "\n",
        "# Se identificacarán registros que tengan algún valor de 'label' distinto a 'ham' y 'spam'\n",
        "reg_errors=df[(df['label']!=\"ham\")&(df['label']!=\"spam\")]\n",
        "print(f\"Cantidad de registros con el valor de 'label' distinto a 'ham' y 'spam': {reg_errors.shape[0]}\")\n",
        "\n",
        "# Visualización de todos los valores únicos en la variable 'label'\n",
        "conteo_valores_unicos=df['label'].value_counts()\n",
        "print(\"\\nValores únicos en la variable 'label':\")\n",
        "# Acceder a todos los valores únicos y sus conteos en un bucle\n",
        "for valor, conteo in conteo_valores_unicos.items():\n",
        "    print(f\"Valor: {valor}, Conteo: {conteo}\")"
      ],
      "metadata": {
        "colab": {
          "base_uri": "https://localhost:8080/"
        },
        "id": "j9-8-fL3so8n",
        "outputId": "8657e74b-1868-47af-f7a8-5bd2f5eb8b0b"
      },
      "execution_count": 7,
      "outputs": [
        {
          "output_type": "stream",
          "name": "stdout",
          "text": [
            "Cantidad de registros con el valor de 'label' distinto a 'ham' y 'spam': 209\n",
            "\n",
            "Valores únicos en la variable 'label':\n",
            "Valor: ham, Conteo: 4617\n",
            "Valor: spam, Conteo: 746\n",
            "Valor: #&gt, Conteo: 136\n",
            "Valor: DECIMAL&gt, Conteo: 13\n",
            "Valor: _, Conteo: 4\n",
            "Valor: URL&gt, Conteo: 3\n",
            "Valor: :(, Conteo: 3\n",
            "Valor: successful day., Conteo: 3\n",
            "Valor: HAVE A NICE SLEEP..SWEET DREAMS.., Conteo: 2\n",
            "Valor: -), Conteo: 2\n",
            "Valor: it kills me that u don't care enough to stop me..., Conteo: 2\n",
            "Valor: Take care, Conteo: 2\n",
            "Valor: sweet dreams, Conteo: 2\n",
            "Valor: wish U Merry Xmas..., Conteo: 2\n",
            "Valor: TIME&gt, Conteo: 2\n",
            "Valor: they wer askd 2 sit in an aeroplane. Aftr they sat they wer told dat the plane ws made by their students. Dey all hurried out of d plane.. Bt only 1 didnt move... He said:\\if it is made by my students, Conteo: 2\n",
            "Valor: ), Conteo: 2\n",
            "Valor: Life is empty without frnds.. So Alwys Be In Touch. Good night &amp, Conteo: 2\n",
            "Valor: present number..:) By Rajitha Raj (Ranju), Conteo: 1\n",
            "Valor: ) None? People hate u:, Conteo: 1\n",
            "Valor: get up before 3, Conteo: 1\n",
            "Valor: You didn't see my facebook huh?, Conteo: 1\n",
            "Valor: 3, Conteo: 1\n",
            "Valor: If i dont make it hav gd night, Conteo: 1\n",
            "Valor: u dont tell me......... Take care:-), Conteo: 1\n",
            "Valor: express your love to someone....that much it will hurt when they leave you or you get seperated...!ö´Ó_??Û¬ud evening..., Conteo: 1\n",
            "Valor: fowler now but I'm in my mom's car so I can't park (long story), Conteo: 1\n",
            "Valor: HAVE A SMILEY SUNDAY..:), Conteo: 1\n",
            "Valor: )., Conteo: 1\n",
            "Valor: ) reminds me i still need 2go.did u c d little thing i left in the lounge?, Conteo: 1\n",
            "Valor: -) Good morning.. keep smiling:-), Conteo: 1\n",
            "Valor: I love u Grl: Hogolo Boy: gold chain kodstini Grl: Agalla Boy: necklace madstini Grl: agalla Boy: Hogli 1 mutai eerulli kodthini! Grl: I love U kano, Conteo: 1\n",
            "Valor: -) ok. I feel like john lennon., Conteo: 1\n",
            "Valor: fletcher now, Conteo: 1\n",
            "Valor: send this to ur frndZ &amp, Conteo: 1\n",
            "Valor: abel, Conteo: 1\n",
            "Valor: i'm in luv wid u. Blue, Conteo: 1\n",
            "Valor: Finally It Becomes Part Of Your Life.. Follow It.. Happy Morning &amp, Conteo: 1\n",
            "Valor: don't worry., Conteo: 1\n",
            "Valor: best friends.. GOODEVENING Dear..:), Conteo: 1\n",
            "Valor: have to reach before 4'o clock so call me plz, Conteo: 1\n",
            "Valor: &lt, Conteo: 1\n",
            "Valor: l 09064012103 box334sk38ch, Conteo: 1\n",
            "Valor: Make happy the person you love. In the same way friendship has one law, Conteo: 1\n"
          ]
        }
      ]
    },
    {
      "cell_type": "markdown",
      "source": [
        "A partir del análisis anterior, se identificaron 209 registros que contienen etiquetas distintas a las esperadas en la variable `label`. Además, se observó que en muchos casos estas etiquetas erróneas fueron reemplazadas por otros textos o símbolos, lo que claramente representa una fuente de ruido en los datos. Esta inconsistencia puede tener un impacto negativo en el rendimiento de nuestro modelo, ya que introduce información incorrecta o inesperada que puede dificultar el proceso de aprendizaje y la precisión de las predicciones."
      ],
      "metadata": {
        "id": "lpmmMcNh1hfV"
      }
    },
    {
      "cell_type": "markdown",
      "source": [
        "### Limpieza de los datos"
      ],
      "metadata": {
        "id": "O3XSFWZ5cpyU"
      }
    },
    {
      "cell_type": "markdown",
      "source": [
        "En el siguiente paso, se llevará a cabo una limpieza de los datos originales con el objetivo de eliminar los errores y eliminar las fuentes de ruido detectadas previamente. Es crucial seguir un orden específico durante este proceso, dado que realizarlo de manera aleatoria podría resultar en la pérdida de registros únicos dentro de los datos, comprometiendo así la integridad y calidad del conjunto de datos."
      ],
      "metadata": {
        "id": "sZROjU1B2NoV"
      }
    },
    {
      "cell_type": "markdown",
      "source": [
        "Primero, se eliminarán los datos con errores en la variable `label`, es decir, aquellos registros que contienen valores distintos a `ham` y `spam`, las únicas etiquetas permitidas en el DataFrame."
      ],
      "metadata": {
        "id": "4fOT5Is9dltN"
      }
    },
    {
      "cell_type": "code",
      "source": [
        "# Eliminación de datos erróneos\n",
        "filas_a_eliminar=reg_errors.index\n",
        "df_clean = df.drop(filas_a_eliminar)"
      ],
      "metadata": {
        "id": "MPhlGg1reKLS"
      },
      "execution_count": 8,
      "outputs": []
    },
    {
      "cell_type": "markdown",
      "source": [
        "En segundo término, se eliminarán todos los datos nulos que se encuentren en el DataFrame."
      ],
      "metadata": {
        "id": "p0_K6WBYcvUC"
      }
    },
    {
      "cell_type": "code",
      "source": [
        "# Eliminación de los datos nulos\n",
        "df_clean.dropna(inplace=True)"
      ],
      "metadata": {
        "id": "3w1gYqWNcrur"
      },
      "execution_count": 9,
      "outputs": []
    },
    {
      "cell_type": "markdown",
      "source": [
        "En el tercer paso, se eliminarán todos los registros duplicados en el DataFrame, manteniendo únicamente un registro único de cada uno. Esta acción tiene como objetivo eliminar cualquier ruido o efecto negativo que la información repetida y redundante pueda provocar en el análisis."
      ],
      "metadata": {
        "id": "iafDSQkZfeHH"
      }
    },
    {
      "cell_type": "code",
      "source": [
        "# Eliminación de datos duplicados\n",
        "df_clean.drop_duplicates(inplace=True)"
      ],
      "metadata": {
        "id": "okVBnn8-f9sH"
      },
      "execution_count": 10,
      "outputs": []
    },
    {
      "cell_type": "markdown",
      "source": [
        "Para asegurarnos de que los cambios se aplicaron corectamente se realizará el mismo análisis que a los datos originales."
      ],
      "metadata": {
        "id": "HyJeBu4z2-PV"
      }
    },
    {
      "cell_type": "code",
      "source": [
        "df_clean.reset_index(drop=True, inplace=True)\n",
        "df_clean.head(10)"
      ],
      "metadata": {
        "colab": {
          "base_uri": "https://localhost:8080/",
          "height": 363
        },
        "id": "-dU-Fxw8gFe5",
        "outputId": "9f86bdbd-b843-4a73-d944-49e76a3ec362"
      },
      "execution_count": 11,
      "outputs": [
        {
          "output_type": "execute_result",
          "data": {
            "text/plain": [
              "                                                text label\n",
              "0  Go until jurong point, crazy.. Available only ...   ham\n",
              "1                      Ok lar... Joking wif u oni...   ham\n",
              "2  Free entry in 2 a wkly comp to win FA Cup fina...  spam\n",
              "3  U dun say so early hor... U c already then say...   ham\n",
              "4  Nah I don't think he goes to usf, he lives aro...   ham\n",
              "5  FreeMsg Hey there darling it's been 3 week's n...  spam\n",
              "6  Even my brother is not like to speak with me. ...   ham\n",
              "7  As per your request 'Melle Melle (Oru Minnamin...   ham\n",
              "8  WINNER!! As a valued network customer you have...  spam\n",
              "9  Had your mobile 11 months or more? U R entitle...  spam"
            ],
            "text/html": [
              "\n",
              "  <div id=\"df-d90cd56e-bbc0-49c9-bcae-7d5548b947b9\" class=\"colab-df-container\">\n",
              "    <div>\n",
              "<style scoped>\n",
              "    .dataframe tbody tr th:only-of-type {\n",
              "        vertical-align: middle;\n",
              "    }\n",
              "\n",
              "    .dataframe tbody tr th {\n",
              "        vertical-align: top;\n",
              "    }\n",
              "\n",
              "    .dataframe thead th {\n",
              "        text-align: right;\n",
              "    }\n",
              "</style>\n",
              "<table border=\"1\" class=\"dataframe\">\n",
              "  <thead>\n",
              "    <tr style=\"text-align: right;\">\n",
              "      <th></th>\n",
              "      <th>text</th>\n",
              "      <th>label</th>\n",
              "    </tr>\n",
              "  </thead>\n",
              "  <tbody>\n",
              "    <tr>\n",
              "      <th>0</th>\n",
              "      <td>Go until jurong point, crazy.. Available only ...</td>\n",
              "      <td>ham</td>\n",
              "    </tr>\n",
              "    <tr>\n",
              "      <th>1</th>\n",
              "      <td>Ok lar... Joking wif u oni...</td>\n",
              "      <td>ham</td>\n",
              "    </tr>\n",
              "    <tr>\n",
              "      <th>2</th>\n",
              "      <td>Free entry in 2 a wkly comp to win FA Cup fina...</td>\n",
              "      <td>spam</td>\n",
              "    </tr>\n",
              "    <tr>\n",
              "      <th>3</th>\n",
              "      <td>U dun say so early hor... U c already then say...</td>\n",
              "      <td>ham</td>\n",
              "    </tr>\n",
              "    <tr>\n",
              "      <th>4</th>\n",
              "      <td>Nah I don't think he goes to usf, he lives aro...</td>\n",
              "      <td>ham</td>\n",
              "    </tr>\n",
              "    <tr>\n",
              "      <th>5</th>\n",
              "      <td>FreeMsg Hey there darling it's been 3 week's n...</td>\n",
              "      <td>spam</td>\n",
              "    </tr>\n",
              "    <tr>\n",
              "      <th>6</th>\n",
              "      <td>Even my brother is not like to speak with me. ...</td>\n",
              "      <td>ham</td>\n",
              "    </tr>\n",
              "    <tr>\n",
              "      <th>7</th>\n",
              "      <td>As per your request 'Melle Melle (Oru Minnamin...</td>\n",
              "      <td>ham</td>\n",
              "    </tr>\n",
              "    <tr>\n",
              "      <th>8</th>\n",
              "      <td>WINNER!! As a valued network customer you have...</td>\n",
              "      <td>spam</td>\n",
              "    </tr>\n",
              "    <tr>\n",
              "      <th>9</th>\n",
              "      <td>Had your mobile 11 months or more? U R entitle...</td>\n",
              "      <td>spam</td>\n",
              "    </tr>\n",
              "  </tbody>\n",
              "</table>\n",
              "</div>\n",
              "    <div class=\"colab-df-buttons\">\n",
              "\n",
              "  <div class=\"colab-df-container\">\n",
              "    <button class=\"colab-df-convert\" onclick=\"convertToInteractive('df-d90cd56e-bbc0-49c9-bcae-7d5548b947b9')\"\n",
              "            title=\"Convert this dataframe to an interactive table.\"\n",
              "            style=\"display:none;\">\n",
              "\n",
              "  <svg xmlns=\"http://www.w3.org/2000/svg\" height=\"24px\" viewBox=\"0 -960 960 960\">\n",
              "    <path d=\"M120-120v-720h720v720H120Zm60-500h600v-160H180v160Zm220 220h160v-160H400v160Zm0 220h160v-160H400v160ZM180-400h160v-160H180v160Zm440 0h160v-160H620v160ZM180-180h160v-160H180v160Zm440 0h160v-160H620v160Z\"/>\n",
              "  </svg>\n",
              "    </button>\n",
              "\n",
              "  <style>\n",
              "    .colab-df-container {\n",
              "      display:flex;\n",
              "      gap: 12px;\n",
              "    }\n",
              "\n",
              "    .colab-df-convert {\n",
              "      background-color: #E8F0FE;\n",
              "      border: none;\n",
              "      border-radius: 50%;\n",
              "      cursor: pointer;\n",
              "      display: none;\n",
              "      fill: #1967D2;\n",
              "      height: 32px;\n",
              "      padding: 0 0 0 0;\n",
              "      width: 32px;\n",
              "    }\n",
              "\n",
              "    .colab-df-convert:hover {\n",
              "      background-color: #E2EBFA;\n",
              "      box-shadow: 0px 1px 2px rgba(60, 64, 67, 0.3), 0px 1px 3px 1px rgba(60, 64, 67, 0.15);\n",
              "      fill: #174EA6;\n",
              "    }\n",
              "\n",
              "    .colab-df-buttons div {\n",
              "      margin-bottom: 4px;\n",
              "    }\n",
              "\n",
              "    [theme=dark] .colab-df-convert {\n",
              "      background-color: #3B4455;\n",
              "      fill: #D2E3FC;\n",
              "    }\n",
              "\n",
              "    [theme=dark] .colab-df-convert:hover {\n",
              "      background-color: #434B5C;\n",
              "      box-shadow: 0px 1px 3px 1px rgba(0, 0, 0, 0.15);\n",
              "      filter: drop-shadow(0px 1px 2px rgba(0, 0, 0, 0.3));\n",
              "      fill: #FFFFFF;\n",
              "    }\n",
              "  </style>\n",
              "\n",
              "    <script>\n",
              "      const buttonEl =\n",
              "        document.querySelector('#df-d90cd56e-bbc0-49c9-bcae-7d5548b947b9 button.colab-df-convert');\n",
              "      buttonEl.style.display =\n",
              "        google.colab.kernel.accessAllowed ? 'block' : 'none';\n",
              "\n",
              "      async function convertToInteractive(key) {\n",
              "        const element = document.querySelector('#df-d90cd56e-bbc0-49c9-bcae-7d5548b947b9');\n",
              "        const dataTable =\n",
              "          await google.colab.kernel.invokeFunction('convertToInteractive',\n",
              "                                                    [key], {});\n",
              "        if (!dataTable) return;\n",
              "\n",
              "        const docLinkHtml = 'Like what you see? Visit the ' +\n",
              "          '<a target=\"_blank\" href=https://colab.research.google.com/notebooks/data_table.ipynb>data table notebook</a>'\n",
              "          + ' to learn more about interactive tables.';\n",
              "        element.innerHTML = '';\n",
              "        dataTable['output_type'] = 'display_data';\n",
              "        await google.colab.output.renderOutput(dataTable, element);\n",
              "        const docLink = document.createElement('div');\n",
              "        docLink.innerHTML = docLinkHtml;\n",
              "        element.appendChild(docLink);\n",
              "      }\n",
              "    </script>\n",
              "  </div>\n",
              "\n",
              "\n",
              "<div id=\"df-c03c7fd5-1ff0-4b32-ba94-c932ae2f6bb6\">\n",
              "  <button class=\"colab-df-quickchart\" onclick=\"quickchart('df-c03c7fd5-1ff0-4b32-ba94-c932ae2f6bb6')\"\n",
              "            title=\"Suggest charts\"\n",
              "            style=\"display:none;\">\n",
              "\n",
              "<svg xmlns=\"http://www.w3.org/2000/svg\" height=\"24px\"viewBox=\"0 0 24 24\"\n",
              "     width=\"24px\">\n",
              "    <g>\n",
              "        <path d=\"M19 3H5c-1.1 0-2 .9-2 2v14c0 1.1.9 2 2 2h14c1.1 0 2-.9 2-2V5c0-1.1-.9-2-2-2zM9 17H7v-7h2v7zm4 0h-2V7h2v10zm4 0h-2v-4h2v4z\"/>\n",
              "    </g>\n",
              "</svg>\n",
              "  </button>\n",
              "\n",
              "<style>\n",
              "  .colab-df-quickchart {\n",
              "      --bg-color: #E8F0FE;\n",
              "      --fill-color: #1967D2;\n",
              "      --hover-bg-color: #E2EBFA;\n",
              "      --hover-fill-color: #174EA6;\n",
              "      --disabled-fill-color: #AAA;\n",
              "      --disabled-bg-color: #DDD;\n",
              "  }\n",
              "\n",
              "  [theme=dark] .colab-df-quickchart {\n",
              "      --bg-color: #3B4455;\n",
              "      --fill-color: #D2E3FC;\n",
              "      --hover-bg-color: #434B5C;\n",
              "      --hover-fill-color: #FFFFFF;\n",
              "      --disabled-bg-color: #3B4455;\n",
              "      --disabled-fill-color: #666;\n",
              "  }\n",
              "\n",
              "  .colab-df-quickchart {\n",
              "    background-color: var(--bg-color);\n",
              "    border: none;\n",
              "    border-radius: 50%;\n",
              "    cursor: pointer;\n",
              "    display: none;\n",
              "    fill: var(--fill-color);\n",
              "    height: 32px;\n",
              "    padding: 0;\n",
              "    width: 32px;\n",
              "  }\n",
              "\n",
              "  .colab-df-quickchart:hover {\n",
              "    background-color: var(--hover-bg-color);\n",
              "    box-shadow: 0 1px 2px rgba(60, 64, 67, 0.3), 0 1px 3px 1px rgba(60, 64, 67, 0.15);\n",
              "    fill: var(--button-hover-fill-color);\n",
              "  }\n",
              "\n",
              "  .colab-df-quickchart-complete:disabled,\n",
              "  .colab-df-quickchart-complete:disabled:hover {\n",
              "    background-color: var(--disabled-bg-color);\n",
              "    fill: var(--disabled-fill-color);\n",
              "    box-shadow: none;\n",
              "  }\n",
              "\n",
              "  .colab-df-spinner {\n",
              "    border: 2px solid var(--fill-color);\n",
              "    border-color: transparent;\n",
              "    border-bottom-color: var(--fill-color);\n",
              "    animation:\n",
              "      spin 1s steps(1) infinite;\n",
              "  }\n",
              "\n",
              "  @keyframes spin {\n",
              "    0% {\n",
              "      border-color: transparent;\n",
              "      border-bottom-color: var(--fill-color);\n",
              "      border-left-color: var(--fill-color);\n",
              "    }\n",
              "    20% {\n",
              "      border-color: transparent;\n",
              "      border-left-color: var(--fill-color);\n",
              "      border-top-color: var(--fill-color);\n",
              "    }\n",
              "    30% {\n",
              "      border-color: transparent;\n",
              "      border-left-color: var(--fill-color);\n",
              "      border-top-color: var(--fill-color);\n",
              "      border-right-color: var(--fill-color);\n",
              "    }\n",
              "    40% {\n",
              "      border-color: transparent;\n",
              "      border-right-color: var(--fill-color);\n",
              "      border-top-color: var(--fill-color);\n",
              "    }\n",
              "    60% {\n",
              "      border-color: transparent;\n",
              "      border-right-color: var(--fill-color);\n",
              "    }\n",
              "    80% {\n",
              "      border-color: transparent;\n",
              "      border-right-color: var(--fill-color);\n",
              "      border-bottom-color: var(--fill-color);\n",
              "    }\n",
              "    90% {\n",
              "      border-color: transparent;\n",
              "      border-bottom-color: var(--fill-color);\n",
              "    }\n",
              "  }\n",
              "</style>\n",
              "\n",
              "  <script>\n",
              "    async function quickchart(key) {\n",
              "      const quickchartButtonEl =\n",
              "        document.querySelector('#' + key + ' button');\n",
              "      quickchartButtonEl.disabled = true;  // To prevent multiple clicks.\n",
              "      quickchartButtonEl.classList.add('colab-df-spinner');\n",
              "      try {\n",
              "        const charts = await google.colab.kernel.invokeFunction(\n",
              "            'suggestCharts', [key], {});\n",
              "      } catch (error) {\n",
              "        console.error('Error during call to suggestCharts:', error);\n",
              "      }\n",
              "      quickchartButtonEl.classList.remove('colab-df-spinner');\n",
              "      quickchartButtonEl.classList.add('colab-df-quickchart-complete');\n",
              "    }\n",
              "    (() => {\n",
              "      let quickchartButtonEl =\n",
              "        document.querySelector('#df-c03c7fd5-1ff0-4b32-ba94-c932ae2f6bb6 button');\n",
              "      quickchartButtonEl.style.display =\n",
              "        google.colab.kernel.accessAllowed ? 'block' : 'none';\n",
              "    })();\n",
              "  </script>\n",
              "</div>\n",
              "    </div>\n",
              "  </div>\n"
            ]
          },
          "metadata": {},
          "execution_count": 11
        }
      ]
    },
    {
      "cell_type": "code",
      "source": [
        "# Análisis de las dimensiones del DataFrame\n",
        "n_rows=df_clean.shape[0]\n",
        "n_columns=df_clean.shape[1]\n",
        "print(f\"Cantidad total de registros: {n_rows}\")\n",
        "print(f\"\\nCantidad total de features: {n_columns}\")\n",
        "print(f\"\\nNombre de las columnas: {list(df_clean.columns)}\")\n",
        "\n",
        "# Análisis de valores nulos\n",
        "n_nan_text=df_clean.isna().sum()['text']\n",
        "n_nan_label=df_clean.isna().sum()['label']\n",
        "print(f\"\\nCantidad de valores nulos en cada feature: 'text': {n_nan_text}, 'label': {n_nan_label}\")\n",
        "print(\"\\nRegistros con valores nulos:\")\n",
        "df_clean[df_clean.isna().any(axis=1)]"
      ],
      "metadata": {
        "colab": {
          "base_uri": "https://localhost:8080/",
          "height": 209
        },
        "id": "ID4p0pf8gSpg",
        "outputId": "c605aaf5-5480-4979-df60-8ef4be8c49a5"
      },
      "execution_count": 12,
      "outputs": [
        {
          "output_type": "stream",
          "name": "stdout",
          "text": [
            "Cantidad total de registros: 4966\n",
            "\n",
            "Cantidad total de features: 2\n",
            "\n",
            "Nombre de las columnas: ['text', 'label']\n",
            "\n",
            "Cantidad de valores nulos en cada feature: 'text': 0, 'label': 0\n",
            "\n",
            "Registros con valores nulos:\n"
          ]
        },
        {
          "output_type": "execute_result",
          "data": {
            "text/plain": [
              "Empty DataFrame\n",
              "Columns: [text, label]\n",
              "Index: []"
            ],
            "text/html": [
              "\n",
              "  <div id=\"df-0c302df3-53b8-4c91-a6f7-c549b60ff4a4\" class=\"colab-df-container\">\n",
              "    <div>\n",
              "<style scoped>\n",
              "    .dataframe tbody tr th:only-of-type {\n",
              "        vertical-align: middle;\n",
              "    }\n",
              "\n",
              "    .dataframe tbody tr th {\n",
              "        vertical-align: top;\n",
              "    }\n",
              "\n",
              "    .dataframe thead th {\n",
              "        text-align: right;\n",
              "    }\n",
              "</style>\n",
              "<table border=\"1\" class=\"dataframe\">\n",
              "  <thead>\n",
              "    <tr style=\"text-align: right;\">\n",
              "      <th></th>\n",
              "      <th>text</th>\n",
              "      <th>label</th>\n",
              "    </tr>\n",
              "  </thead>\n",
              "  <tbody>\n",
              "  </tbody>\n",
              "</table>\n",
              "</div>\n",
              "    <div class=\"colab-df-buttons\">\n",
              "\n",
              "  <div class=\"colab-df-container\">\n",
              "    <button class=\"colab-df-convert\" onclick=\"convertToInteractive('df-0c302df3-53b8-4c91-a6f7-c549b60ff4a4')\"\n",
              "            title=\"Convert this dataframe to an interactive table.\"\n",
              "            style=\"display:none;\">\n",
              "\n",
              "  <svg xmlns=\"http://www.w3.org/2000/svg\" height=\"24px\" viewBox=\"0 -960 960 960\">\n",
              "    <path d=\"M120-120v-720h720v720H120Zm60-500h600v-160H180v160Zm220 220h160v-160H400v160Zm0 220h160v-160H400v160ZM180-400h160v-160H180v160Zm440 0h160v-160H620v160ZM180-180h160v-160H180v160Zm440 0h160v-160H620v160Z\"/>\n",
              "  </svg>\n",
              "    </button>\n",
              "\n",
              "  <style>\n",
              "    .colab-df-container {\n",
              "      display:flex;\n",
              "      gap: 12px;\n",
              "    }\n",
              "\n",
              "    .colab-df-convert {\n",
              "      background-color: #E8F0FE;\n",
              "      border: none;\n",
              "      border-radius: 50%;\n",
              "      cursor: pointer;\n",
              "      display: none;\n",
              "      fill: #1967D2;\n",
              "      height: 32px;\n",
              "      padding: 0 0 0 0;\n",
              "      width: 32px;\n",
              "    }\n",
              "\n",
              "    .colab-df-convert:hover {\n",
              "      background-color: #E2EBFA;\n",
              "      box-shadow: 0px 1px 2px rgba(60, 64, 67, 0.3), 0px 1px 3px 1px rgba(60, 64, 67, 0.15);\n",
              "      fill: #174EA6;\n",
              "    }\n",
              "\n",
              "    .colab-df-buttons div {\n",
              "      margin-bottom: 4px;\n",
              "    }\n",
              "\n",
              "    [theme=dark] .colab-df-convert {\n",
              "      background-color: #3B4455;\n",
              "      fill: #D2E3FC;\n",
              "    }\n",
              "\n",
              "    [theme=dark] .colab-df-convert:hover {\n",
              "      background-color: #434B5C;\n",
              "      box-shadow: 0px 1px 3px 1px rgba(0, 0, 0, 0.15);\n",
              "      filter: drop-shadow(0px 1px 2px rgba(0, 0, 0, 0.3));\n",
              "      fill: #FFFFFF;\n",
              "    }\n",
              "  </style>\n",
              "\n",
              "    <script>\n",
              "      const buttonEl =\n",
              "        document.querySelector('#df-0c302df3-53b8-4c91-a6f7-c549b60ff4a4 button.colab-df-convert');\n",
              "      buttonEl.style.display =\n",
              "        google.colab.kernel.accessAllowed ? 'block' : 'none';\n",
              "\n",
              "      async function convertToInteractive(key) {\n",
              "        const element = document.querySelector('#df-0c302df3-53b8-4c91-a6f7-c549b60ff4a4');\n",
              "        const dataTable =\n",
              "          await google.colab.kernel.invokeFunction('convertToInteractive',\n",
              "                                                    [key], {});\n",
              "        if (!dataTable) return;\n",
              "\n",
              "        const docLinkHtml = 'Like what you see? Visit the ' +\n",
              "          '<a target=\"_blank\" href=https://colab.research.google.com/notebooks/data_table.ipynb>data table notebook</a>'\n",
              "          + ' to learn more about interactive tables.';\n",
              "        element.innerHTML = '';\n",
              "        dataTable['output_type'] = 'display_data';\n",
              "        await google.colab.output.renderOutput(dataTable, element);\n",
              "        const docLink = document.createElement('div');\n",
              "        docLink.innerHTML = docLinkHtml;\n",
              "        element.appendChild(docLink);\n",
              "      }\n",
              "    </script>\n",
              "  </div>\n",
              "\n",
              "    </div>\n",
              "  </div>\n"
            ]
          },
          "metadata": {},
          "execution_count": 12
        }
      ]
    },
    {
      "cell_type": "code",
      "source": [
        "# Análisis de valores duplicados\n",
        "\n",
        "# Creación de un DataFrame que agrega una columna 'count' que realiza el conteo de las veces que aparece\n",
        "# cada registro dentro del DataFrame original\n",
        "repeated_rows=df_clean.groupby(df_clean.columns.tolist()).size().reset_index(name='count')\n",
        "print(f\"\\nResumen de la cantidad de registros con una misma cantidad de repeticiones: \\n{repeated_rows['count'].value_counts()}\")\n",
        "print(f\"\\nCantidad total de registros únicos con más de una aparición en el DataFrame: {repeated_rows[repeated_rows['count']!=1].shape[0]}\")"
      ],
      "metadata": {
        "colab": {
          "base_uri": "https://localhost:8080/"
        },
        "id": "HGD11FlvgUCl",
        "outputId": "5f0510c8-b78e-45ea-cc15-560ca407b7bc"
      },
      "execution_count": 13,
      "outputs": [
        {
          "output_type": "stream",
          "name": "stdout",
          "text": [
            "\n",
            "Resumen de la cantidad de registros con una misma cantidad de repeticiones: \n",
            "1    4966\n",
            "Name: count, dtype: int64\n",
            "\n",
            "Cantidad total de registros únicos con más de una aparición en el DataFrame: 0\n"
          ]
        }
      ]
    },
    {
      "cell_type": "code",
      "source": [
        "# Análisis de registros erróneos\n",
        "\n",
        "# Se identificacarán registros que tengan algún valor de 'label' distinto a 'ham' y 'spam'\n",
        "reg_errors=df_clean[(df_clean['label']!=\"ham\")&(df_clean['label']!=\"spam\")]\n",
        "print(f\"Cantidad de registros con el valor de 'label' distinto a 'ham' y 'spam': {reg_errors.shape[0]}\")\n",
        "\n",
        "# Visualización de todos los valores únicos en la variable 'label'\n",
        "conteo_valores_unicos=df_clean['label'].value_counts()\n",
        "print(\"\\nValores únicos en la variable 'label':\")\n",
        "# Acceder a todos los valores únicos y sus conteos en un bucle\n",
        "for valor, conteo in conteo_valores_unicos.items():\n",
        "    print(f\"Valor: {valor}, Conteo: {conteo}\")"
      ],
      "metadata": {
        "colab": {
          "base_uri": "https://localhost:8080/"
        },
        "id": "3uIJAu9WgbRc",
        "outputId": "b68abf9f-156a-4a55-9f67-d25fd4b1455a"
      },
      "execution_count": 14,
      "outputs": [
        {
          "output_type": "stream",
          "name": "stdout",
          "text": [
            "Cantidad de registros con el valor de 'label' distinto a 'ham' y 'spam': 0\n",
            "\n",
            "Valores únicos en la variable 'label':\n",
            "Valor: ham, Conteo: 4325\n",
            "Valor: spam, Conteo: 641\n"
          ]
        }
      ]
    },
    {
      "cell_type": "markdown",
      "source": [
        "### Eliminación de signos de puntuación y división de texto en palabras individuales"
      ],
      "metadata": {
        "id": "8z4326v2zxAA"
      }
    },
    {
      "cell_type": "markdown",
      "source": [
        "Luego de la limpieza de los datos se realizará un procesamiento del texto contenido en los mensajes y así convertirlo en una representación idónea para ser procesada mediante una red neuronal.\n",
        "\n",
        "En una primera etapa, se procederá a dividir el conjunto de datos en dos arreglos distintos: `messages` y `labels`, que contendrán, respectivamente, los textos de los mensajes y las etiquetas asociadas a cada mensaje. Posteriormente, los textos presentes en estos arreglos se combinarán para formar un solo string en cada uno, consolidando así toda la información contenida en cada arreglo."
      ],
      "metadata": {
        "id": "YLwugH4n3W8p"
      }
    },
    {
      "cell_type": "code",
      "source": [
        "# Separación de los datos en messages y labels\n",
        "messages=[]\n",
        "labels=[]\n",
        "\n",
        "for i, label in enumerate(df_clean['label']):\n",
        "    messages.append(df_clean['text'][i])\n",
        "    labels.append(label)\n",
        "\n",
        "messages=np.asarray(messages)\n",
        "labels=np.asarray(labels)\n",
        "\n",
        "# Unión de los textos en cada arreglo para formar un solo string\n",
        "messages='\\n'.join(messages)\n",
        "labels='\\n'.join(labels)"
      ],
      "metadata": {
        "id": "FYRJHr0EixgT"
      },
      "execution_count": 15,
      "outputs": []
    },
    {
      "cell_type": "code",
      "source": [
        "# Visualización de parte de los strings de cada arreglo\n",
        "print(f\"{messages[:200]}\")\n",
        "print(f\"\\n{labels[:6]}\")"
      ],
      "metadata": {
        "colab": {
          "base_uri": "https://localhost:8080/"
        },
        "id": "fR3FmLeMxG8j",
        "outputId": "2971915a-299d-43b6-f279-df324e4f613b"
      },
      "execution_count": 16,
      "outputs": [
        {
          "output_type": "stream",
          "name": "stdout",
          "text": [
            "Go until jurong point, crazy.. Available only in bugis n great world la e buffet... Cine there got amore wat...\n",
            "Ok lar... Joking wif u oni...\n",
            "Free entry in 2 a wkly comp to win FA Cup final tkts 21st \n",
            "\n",
            "ham\n",
            "ha\n"
          ]
        }
      ]
    },
    {
      "cell_type": "markdown",
      "source": [
        "Después, se llevó a cabo la eliminación de los signos de puntuación, dado que no son relevantes para nuestro análisis. Además, se procedió a segmentar el texto en palabras individuales, facilitando así el procesamiento y análisis de cada término de manera independiente."
      ],
      "metadata": {
        "id": "3-gm8_Fa6Jq9"
      }
    },
    {
      "cell_type": "code",
      "source": [
        "print(punctuation) # Visualización de los signos de puntuación considerados\n",
        "\n",
        "messages = messages.lower() # Transformación del texto a solo letras minúsculas\n",
        "\n",
        "all_text = ''.join([c for c in messages if c not in punctuation]) # Se une el texto sin los signos de puntuación"
      ],
      "metadata": {
        "colab": {
          "base_uri": "https://localhost:8080/"
        },
        "id": "6eT0vtTnwIQX",
        "outputId": "9de74579-23f6-4ca6-eeb0-1b07ac0aa864"
      },
      "execution_count": 17,
      "outputs": [
        {
          "output_type": "stream",
          "name": "stdout",
          "text": [
            "!\"#$%&'()*+,-./:;<=>?@[\\]^_`{|}~\n"
          ]
        }
      ]
    },
    {
      "cell_type": "code",
      "source": [
        "# Eliminación de los saltos de línea\n",
        "messages_split = all_text.split('\\n')\n",
        "all_text = ' '.join(messages_split)\n",
        "\n",
        "# Separación del texto en palabras individuales\n",
        "words = all_text.split()\n",
        "print(words[:100])"
      ],
      "metadata": {
        "colab": {
          "base_uri": "https://localhost:8080/"
        },
        "id": "zh2el66nxzXI",
        "outputId": "33101cae-904a-4284-ebc9-6c8800d698e1"
      },
      "execution_count": 18,
      "outputs": [
        {
          "output_type": "stream",
          "name": "stdout",
          "text": [
            "['go', 'until', 'jurong', 'point', 'crazy', 'available', 'only', 'in', 'bugis', 'n', 'great', 'world', 'la', 'e', 'buffet', 'cine', 'there', 'got', 'amore', 'wat', 'ok', 'lar', 'joking', 'wif', 'u', 'oni', 'free', 'entry', 'in', '2', 'a', 'wkly', 'comp', 'to', 'win', 'fa', 'cup', 'final', 'tkts', '21st', 'may', '2005', 'text', 'fa', 'to', '87121', 'to', 'receive', 'entry', 'questionstd', 'txt', 'ratetcs', 'apply', '08452810075over18s', 'u', 'dun', 'say', 'so', 'early', 'hor', 'u', 'c', 'already', 'then', 'say', 'nah', 'i', 'dont', 'think', 'he', 'goes', 'to', 'usf', 'he', 'lives', 'around', 'here', 'though', 'freemsg', 'hey', 'there', 'darling', 'its', 'been', '3', 'weeks', 'now', 'and', 'no', 'word', 'back', 'id', 'like', 'some', 'fun', 'you', 'up', 'for', 'it', 'still']\n"
          ]
        }
      ]
    },
    {
      "cell_type": "markdown",
      "source": [
        "### Codificación de palabras"
      ],
      "metadata": {
        "id": "u4RA4iwb7quc"
      }
    },
    {
      "cell_type": "markdown",
      "source": [
        "A continuación se representará a cada palabra con un número entero único que representará su índice. Para lograr esto, crearemos un diccionario que establezca la correspondencia entre palabras y números, permitiéndonos transformar las palabras del texto en valores numéricos de manera eficiente."
      ],
      "metadata": {
        "id": "sje4Xnqj7udO"
      }
    },
    {
      "cell_type": "code",
      "source": [
        "counts = Counter(words) # Construye un diccionario de palabras. Las claves son las palabras y los valores son la frecuencia\n",
        "vocab = sorted(counts, key=counts.get, reverse=True) # Ordena la palabras por frecuencia\n",
        "vocab_to_int = {word: ii for ii, word in enumerate(vocab, 1)} # Construye diccionario para mapear palabra a número entero. Los índices inician en 1.\n",
        "\n",
        "# Conversión de cada palabra de los mensajes en índices\n",
        "messages_ints = []\n",
        "for message in messages_split:\n",
        "  messages_ints.append([vocab_to_int[word] for word in message.split()])"
      ],
      "metadata": {
        "id": "QrFhDmMh8Gj7"
      },
      "execution_count": 19,
      "outputs": []
    },
    {
      "cell_type": "code",
      "source": [
        "# Cada mensaje ahora se representa como una secuencia de números (índices)\n",
        "print(messages_split[0])\n",
        "print(messages_ints[0])\n",
        "\n",
        "# Cantidad de palabras únicas que contiene el diccionario\n",
        "print(f\"\\nPalabras únicas: {len(vocab_to_int)}\")"
      ],
      "metadata": {
        "colab": {
          "base_uri": "https://localhost:8080/"
        },
        "id": "9CZyld539jJy",
        "outputId": "726a811e-51c4-47c5-e228-370bf6e38abb"
      },
      "execution_count": 20,
      "outputs": [
        {
          "output_type": "stream",
          "name": "stdout",
          "text": [
            "go until jurong point crazy available only in bugis n great world la e buffet cine there got amore wat\n",
            "[43, 400, 3737, 709, 645, 751, 65, 8, 1104, 92, 116, 471, 1105, 142, 2509, 1106, 68, 55, 3738, 126]\n",
            "\n",
            "Palabras únicas: 9196\n"
          ]
        }
      ]
    },
    {
      "cell_type": "markdown",
      "source": [
        "### Embedding de etiquetas"
      ],
      "metadata": {
        "id": "MRC_Efid_x3u"
      }
    },
    {
      "cell_type": "markdown",
      "source": [
        "Las etiquetas se convierten a números binarios para poder ser ingresados a la red neuronal. Si la etiqueta es `spam` se convierte en 1 y si la etiqueta es `ham` se convierte en 0."
      ],
      "metadata": {
        "id": "GgWLENq3Q6FP"
      }
    },
    {
      "cell_type": "code",
      "source": [
        "# Se codifican las etiquetas. 1 si es 'spam', 0 si es 'ham'\n",
        "labels_split = labels.split('\\n')\n",
        "encoded_labels = np.array([1 if label == 'spam' else 0 for label in labels_split])"
      ],
      "metadata": {
        "id": "ldGEOtM8_1c6"
      },
      "execution_count": 21,
      "outputs": []
    },
    {
      "cell_type": "markdown",
      "source": [
        "### Longitud de Secuencias"
      ],
      "metadata": {
        "id": "kkwBj-dlC3kl"
      }
    },
    {
      "cell_type": "markdown",
      "source": [
        "Se examinan las longitudes de cada mensaje codificado para detectar mensajes de longitud cero y determinar el tamaño máximo, con el propósito de elegir adecuadamente el tamaño de padding."
      ],
      "metadata": {
        "id": "Tv2KVPadRObW"
      }
    },
    {
      "cell_type": "code",
      "source": [
        "# Cálculo de las longitudes de cada mensaje codificado\n",
        "review_lens = Counter([len(x) for x in messages_ints])\n",
        "print(\"Messages de longitud cero:\", review_lens[0])\n",
        "print('Máxima longitud:', max(review_lens))"
      ],
      "metadata": {
        "colab": {
          "base_uri": "https://localhost:8080/"
        },
        "id": "k8gPp0CLAcZA",
        "outputId": "a6009615-e12d-4ffe-83a9-3cefe930d3ad"
      },
      "execution_count": 22,
      "outputs": [
        {
          "output_type": "stream",
          "name": "stdout",
          "text": [
            "Messages de longitud cero: 2\n",
            "Máxima longitud: 171\n"
          ]
        }
      ]
    },
    {
      "cell_type": "markdown",
      "source": [
        "Existen 2 mensajes de longitud cero, por lo que se necesita eliminarlos para poder procesarlos en la red neuronal."
      ],
      "metadata": {
        "id": "xiQOSRuOR4Fz"
      }
    },
    {
      "cell_type": "code",
      "source": [
        "print('Reviews antes de eliminación:', len(messages_ints))\n",
        "\n",
        "#Extraemos los índices de todos los reviews que tienen longitud > 0\n",
        "non_zero_idx = [ii for ii, review in enumerate(messages_ints) if len(review)!=0]\n",
        "\n",
        "#Nos quedamos solo con los reviews con longitud > 0\n",
        "messages_ints = [messages_ints[ii] for ii in non_zero_idx]\n",
        "\n",
        "print('Reviews después de eliminación:', len(messages_ints))"
      ],
      "metadata": {
        "colab": {
          "base_uri": "https://localhost:8080/"
        },
        "id": "neYWFx9_Ghui",
        "outputId": "f1dc08b7-bbf7-49fd-95a8-86edc45a9746"
      },
      "execution_count": 23,
      "outputs": [
        {
          "output_type": "stream",
          "name": "stdout",
          "text": [
            "Reviews antes de eliminación: 4968\n",
            "Reviews después de eliminación: 4966\n"
          ]
        }
      ]
    },
    {
      "cell_type": "markdown",
      "source": [
        "### Padding"
      ],
      "metadata": {
        "id": "glokGGRrDRhp"
      }
    },
    {
      "cell_type": "markdown",
      "source": [
        "Aplicaremos la técnica de padding a los mensajes para estandarizar la longitud de las secuencias de texto. Este paso nos permitirá convertir los datos en un array de 2D, lo cual resulta más conveniente para las etapas posteriores del procesamiento.\n",
        "\n",
        "Tras analizar la longitud máxima de las secuencias, se determinó que estas alcanzan un máximo de 171 palabras. Para estandarizar las secuencias con padding, se optó por fijar una longitud de 30 palabras. Esta elección se basó en un proceso de ajuste experimental, donde se observó que este valor brindaba un buen desempeño en el modelo de red neuronal implementado. Por lo tanto, las secuencias que posean menos de 30 palabras se completarán con ceros, mientras que aquellas que superen esta longitud se truncarán a 30 palabras."
      ],
      "metadata": {
        "id": "VkN8LI6iSGCw"
      }
    },
    {
      "cell_type": "code",
      "source": [
        "def pad_features(messages_ints, seq_length):\n",
        "  \"\"\"Aplica la técnica de padding a mesajes codificados para estandarizar\n",
        "     la longitud de las secuencias de texto.\n",
        "\n",
        "  Parameters:\n",
        "  ----------------\n",
        "  messages_ints: ndarray\n",
        "            Arreglo de mensajes convertidos en enteros.\n",
        "\n",
        "  seq_length: int\n",
        "          Longitud deseada para cada secuencia de mensajes.\n",
        "\n",
        "  Returns:\n",
        "  ----------------\n",
        "  features: ndarray\n",
        "        Matriz 2D que contiene los mensajes con ajuste a la longitud especificada.\n",
        "  \"\"\"\n",
        "  # Se crea una matriz de ceros con la forma correcta\n",
        "  features = np.zeros((len(messages_ints), seq_length), dtype=int)\n",
        "\n",
        "  # Se itera sobre cada mensaje en 'messages_ints' para colocarlos en la matriz con padding\n",
        "  for i, row in enumerate(messages_ints):\n",
        "    # Se coloca el mensaje en la fila correspondiente\n",
        "    features[i, -len(row):] = np.array(row)[:seq_length]\n",
        "\n",
        "  return features"
      ],
      "metadata": {
        "id": "hr-IzUDXDS5E"
      },
      "execution_count": 24,
      "outputs": []
    },
    {
      "cell_type": "code",
      "source": [
        "# Prueba del padding\n",
        "\n",
        "seq_length = 30 # Largo de las secuencias deseado\n",
        "\n",
        "features = pad_features(messages_ints, seq_length=seq_length) # Aplicación del padding\n",
        "\n",
        "# Visualización de los mensajes luego de aplicar padding\n",
        "print(features.shape)\n",
        "print(features[:30,:10])"
      ],
      "metadata": {
        "colab": {
          "base_uri": "https://localhost:8080/"
        },
        "id": "di1EdlX-DUlU",
        "outputId": "c3de7b7e-8604-4fe0-acbd-d624a74d2a27"
      },
      "execution_count": 25,
      "outputs": [
        {
          "output_type": "stream",
          "name": "stdout",
          "text": [
            "(4966, 30)\n",
            "[[   0    0    0    0    0    0    0    0    0    0]\n",
            " [   0    0    0    0    0    0    0    0    0    0]\n",
            " [   0    0   52  489    8   22    4  929  930    2]\n",
            " [   0    0    0    0    0    0    0    0    0    0]\n",
            " [   0    0    0    0    0    0    0    0    0    0]\n",
            " [ 752  104   68 1400   42  101  202  551   23    7]\n",
            " [   0    0    0    0    0    0    0    0    0    0]\n",
            " [   0    0    0    0   77  236   13 1401 2517 2517]\n",
            " [   0    0    0    0  710   77    4 1018  404  241]\n",
            " [   0  132   13  102 1019  753   28  117    6   85]\n",
            " [   0    0    0    0    0    0    0    0    0   21]\n",
            " [   0    0    0    0 1946 3753    2  221  180   45]\n",
            " [   0    0    0    0  187    3   16  194    4  182]\n",
            " [ 154  101 1616   12    5  153  528    2  378    3]\n",
            " [   0    0    0    0    0    0    0    0    0    0]\n",
            " [   0    0    0    0    0    0    0    0    0    0]\n",
            " [   0    0    0    0    0    0    0    0    0    0]\n",
            " [   0    0    0    0    0    0    0    0    0    0]\n",
            " [   0    0    0    0    0    0    0    0    0    0]\n",
            " [   0    0    0    0    0    0    0 1021  242 3773]\n",
            " [   0    0    0    0    0    0    0    0    0    0]\n",
            " [   0    0    0    0    0    0    0    0    0    0]\n",
            " [   0    0    0    0    0    0    0    0    0    0]\n",
            " [   0    0    0    0    0    0    0    0    0    0]\n",
            " [   0    0    0    0    0    0    0    0    0    0]\n",
            " [   0    0   34 3779  869    2  276    4 2523   21]\n",
            " [   0    0    0    0    0    0    0    0    0    0]\n",
            " [   0    0  107    3 1112    5  452   20    3 1950]\n",
            " [   0    0    0    0    0    0    0    0    0    0]\n",
            " [   0    0    0    0    0    0    0    0    0    0]]\n"
          ]
        }
      ]
    },
    {
      "cell_type": "markdown",
      "source": [
        "## Partición de los datos"
      ],
      "metadata": {
        "id": "ZzDDaHELiUPn"
      }
    },
    {
      "cell_type": "markdown",
      "source": [
        "Se establecieron porcentajes específicos para la división de los datos procesados: el 70% para entrenamiento, el 10% para validación y el 20% para pruebas. Posteriormente, al crear los DataLoaders, se eligió un `batch_size` de 2. Esta elección se basó en encontrar un equilibrio favorable entre el rendimiento del modelo y la utilización eficiente de los recursos computacionales."
      ],
      "metadata": {
        "id": "X0xfHeUlZS6B"
      }
    },
    {
      "cell_type": "code",
      "source": [
        "# Ratios de train, validation y test\n",
        "train_ratio = 0.7\n",
        "val_ratio = 0.1\n",
        "test_ratio = 0.2\n",
        "\n",
        "# Partición de la data en los conjuntos de train, validaion y test (messages y labels)\n",
        "split_idx = int(len(features)*train_ratio)\n",
        "train_x, remaining_x = features[:split_idx], features[split_idx:]\n",
        "train_y, remaining_y = encoded_labels[:split_idx], encoded_labels[split_idx:]\n",
        "\n",
        "new_ratio = val_ratio/(1-train_ratio)\n",
        "test_idx = int(len(remaining_x)*new_ratio)\n",
        "val_x, test_x = remaining_x[:test_idx], remaining_x[test_idx:]\n",
        "val_y, test_y = remaining_y[:test_idx], remaining_y[test_idx:]\n",
        "\n",
        "# Visualización de las dimensiones de los conjuntos y sus respectivos porcentajes con respecto\n",
        "# a la data total\n",
        "print(\"\\t\\t\\tFeatures: \\t\\t\\tPorcentaje:\")\n",
        "print(f\"Train set: \\t\\t{train_x.shape} \\t\\t\\t{round(100*train_x.shape[0]/features.shape[0], 1)}%\",\n",
        "      f\"\\nValidation set: \\t{val_x.shape} \\t\\t\\t{round(100*val_x.shape[0]/features.shape[0], 1)}%\",\n",
        "      f\"\\nTest set: \\t\\t{test_x.shape} \\t\\t\\t{round(100*test_x.shape[0]/features.shape[0], 1)}%\")"
      ],
      "metadata": {
        "colab": {
          "base_uri": "https://localhost:8080/"
        },
        "id": "YrXEnNWRib5M",
        "outputId": "55e5d8f2-b14f-4c92-8ddb-4c6f3c171746"
      },
      "execution_count": 26,
      "outputs": [
        {
          "output_type": "stream",
          "name": "stdout",
          "text": [
            "\t\t\tFeatures: \t\t\tPorcentaje:\n",
            "Train set: \t\t(3476, 30) \t\t\t70.0% \n",
            "Validation set: \t(496, 30) \t\t\t10.0% \n",
            "Test set: \t\t(994, 30) \t\t\t20.0%\n"
          ]
        }
      ]
    },
    {
      "cell_type": "code",
      "source": [
        "# Creación de Tensor datasets\n",
        "train_data = TensorDataset(torch.from_numpy(train_x), torch.from_numpy(train_y))\n",
        "valid_data = TensorDataset(torch.from_numpy(val_x), torch.from_numpy(val_y))\n",
        "test_data = TensorDataset(torch.from_numpy(test_x), torch.from_numpy(test_y))\n",
        "\n",
        "# Creación de Dataloaders\n",
        "batch_size = 2\n",
        "\n",
        "train_loader = DataLoader(train_data, shuffle=True, batch_size=batch_size)\n",
        "valid_loader = DataLoader(valid_data, shuffle=True, batch_size=batch_size)\n",
        "test_loader = DataLoader(test_data, shuffle=False, batch_size=batch_size)"
      ],
      "metadata": {
        "id": "wmAO2yOmrFrU"
      },
      "execution_count": 27,
      "outputs": []
    },
    {
      "cell_type": "markdown",
      "source": [
        "## Modelo LSTM"
      ],
      "metadata": {
        "id": "_5GQLAx5w5VA"
      }
    },
    {
      "cell_type": "markdown",
      "source": [
        "Para poder realizar una correcta clasificación y detección de spam en mensajes de texto se optó por utilizar un modelo de red neuronal, en particular un modelo basado en una Red Neuronal Recurrente del tipo LSTM(Long Short-Term Memory). Para esto se implementó una estructura que se puede resumir en las siguientes capas:\n",
        "- Una `capa embedding` que convierta tokens de palabras (índices) en embeddings de un tamaño específico.\n",
        "- Una `capa LSTM` definida por el tamaño del estado oculto y el número de capas.\n",
        "- Una capa de salida `fully-connected` que mapee la salida del LSTM al tamaño de salida deseado.\n",
        "- Una capa de activación `sigmoide` que convierta la salida a valores [0, 1], que representan las dos clases de la data.\n",
        "\n"
      ],
      "metadata": {
        "id": "0M3wInaYakYs"
      }
    },
    {
      "cell_type": "code",
      "source": [
        "# Verificación de GPU\n",
        "train_on_gpu=torch.cuda.is_available()\n",
        "\n",
        "if(train_on_gpu):\n",
        "    print('Training on GPU.')\n",
        "else:\n",
        "    print('No GPU available, training on CPU.')"
      ],
      "metadata": {
        "colab": {
          "base_uri": "https://localhost:8080/"
        },
        "id": "6Z0HLhu2w707",
        "outputId": "cc37ee0f-e247-4544-ce1b-62f0fa6b4e3a"
      },
      "execution_count": 28,
      "outputs": [
        {
          "output_type": "stream",
          "name": "stdout",
          "text": [
            "Training on GPU.\n"
          ]
        }
      ]
    },
    {
      "cell_type": "markdown",
      "source": [
        "### Creación de red neuronal"
      ],
      "metadata": {
        "id": "nPoZ9knP0foU"
      }
    },
    {
      "cell_type": "markdown",
      "source": [
        "La clase `SpamRNN` es una implementación de una Red Neuronal Recurrente del tipo LSTM (Long Short-Term Memory) destinada a la clasificación de mensajes, particularmente para la identificación de spam. Al ser inicializada, establece la arquitectura de la red con capas fundamentales, incluyendo embedding, LSTM (Long Short-Term Memory), dropout para regularización y una capa lineal con función sigmoide para la salida. Los parámetros iniciales, como el tamaño del vocabulario, la dimensión de salida, el número de capas y la probabilidad de dropout, configuran la estructura de la red.\n",
        "\n",
        "El método `forward` se encarga de realizar la propagación hacia adelante en la red, procesando los datos de entrada a través de las capas definidas. Toma los datos de entrada, calcula los embeddings correspondientes y los pasa por la capa LSTM, extrayendo luego la representación de la secuencia mediante la selección del último valor de salida. Posteriormente, realiza operaciones de dropout y una transformación lineal, finalizando con una función sigmoide para obtener las probabilidades de clase.\n",
        "\n",
        "Por último, el método `init_hidden` inicializa el estado oculto y la memoria de la red LSTM, preparando estos componentes para su uso en la propagación hacia adelante. Este método configura los tensores necesarios para el estado oculto y la memoria de la red, estableciendo su tamaño y contenido según el tamaño del lote o batch que se esté utilizando en el entrenamiento o evaluación de la red."
      ],
      "metadata": {
        "id": "8TBwFyhvcKDq"
      }
    },
    {
      "cell_type": "code",
      "source": [
        "class SpamRNN(nn.Module):\n",
        "    \"\"\"\n",
        "    Red Neuronal Recurrente (RNN) para clasificación de mensajes de spam.\n",
        "\n",
        "    \"\"\"\n",
        "    def __init__(self, vocab_size, output_size, embedding_dim, hidden_dim, n_layers, drop_prob=0.5):\n",
        "        \"\"\"Inicializa la arquitectura de la red neuronal.\n",
        "\n",
        "        Parameters:\n",
        "        -------------------\n",
        "        vocab_size: int\n",
        "              Tamaño del vocabulario.\n",
        "\n",
        "        output_size:  int\n",
        "              Tamaño de la salida (número de clases).\n",
        "\n",
        "        embedding_dim: int\n",
        "              Dimensión del espacio de embeddings.\n",
        "\n",
        "        hidden_dim: int\n",
        "              Dimensión del estado oculto de la red.\n",
        "\n",
        "        n_layers: int\n",
        "              Número de capas en la red neuronal.\n",
        "\n",
        "        drop_prob: float\n",
        "              Probabilidad de dropout para regularización (default=0.5).\n",
        "\n",
        "        Returns:\n",
        "        -------------------\n",
        "        None\n",
        "\n",
        "        \"\"\"\n",
        "        super(SpamRNN, self).__init__()\n",
        "\n",
        "        self.output_size = output_size\n",
        "        self.n_layers = n_layers\n",
        "        self.hidden_dim = hidden_dim\n",
        "\n",
        "        # Capas embedding y LSTM\n",
        "        self.embedding = nn.Embedding(vocab_size, embedding_dim)\n",
        "        self.lstm = nn.LSTM(embedding_dim, hidden_dim, n_layers,\n",
        "                            dropout=drop_prob, batch_first=True)\n",
        "\n",
        "        # Dropout\n",
        "        self.dropout = nn.Dropout(drop_prob)\n",
        "\n",
        "        # Capa lineal y sigmoide\n",
        "        self.fc = nn.Linear(hidden_dim, output_size)\n",
        "        self.sig = nn.Sigmoid()\n",
        "\n",
        "    def forward(self, x, hidden):\n",
        "        \"\"\"Realiza la propagación hacia adelante en la red neuronal.\n",
        "\n",
        "        Parameters:\n",
        "        -------------------\n",
        "        x: torch.Tensor\n",
        "        Datos de entrada (tensor con índices de palabras).\n",
        "\n",
        "        hidden: tuple of torch.Tensor\n",
        "           Estado oculto inicial.\n",
        "\n",
        "        Returns:\n",
        "        -------------------\n",
        "        sig_out: torch.Tensor\n",
        "            Salida de la red luego de la función sigmoide.\n",
        "\n",
        "        hidden: tuple of torch.Tensor\n",
        "            Último estado oculto.\n",
        "\n",
        "        \"\"\"\n",
        "        # Obtención de los embeddings correspondientes a los datos x\n",
        "        embeds = self.embedding(x)\n",
        "\n",
        "        # Procesamiento de los embedding a través de la capa LSTM\n",
        "        lstm_out, hidden = self.lstm(embeds, hidden)\n",
        "\n",
        "        # Tomamos solo el último valor de salida del LSTM como representación de la\n",
        "        # secuencia de entrada\n",
        "        lstm_out = lstm_out[:,-1,:] # lstm_out no solamente me entrega la salida de la red, sino que también todos los estados ocultos de la red\n",
        "\n",
        "        # Procesamiento por cada Dropout y fully-connected\n",
        "        out = self.dropout(lstm_out)\n",
        "        out = self.fc(out)\n",
        "\n",
        "        # Procesamiento por la función sigmoide para obtener las probabilidades\n",
        "        # de la clase\n",
        "        sig_out = self.sig(out)\n",
        "\n",
        "        # Retorna la salida de la función sigmoide y el último estado oculto\n",
        "        return sig_out, hidden\n",
        "\n",
        "\n",
        "    def init_hidden(self, batch_size):\n",
        "        \"\"\"Inicializa el estado oculto y la memoria de la red LSTM.\n",
        "\n",
        "        Parameters:\n",
        "        -------------------\n",
        "        batch_size: int\n",
        "              Tamaño del lote o batch.\n",
        "\n",
        "        Returns:\n",
        "        -------------------\n",
        "        hidden: tuple of torch.Tensor\n",
        "            Estado oculto y memoria inicializados.\n",
        "\n",
        "        \"\"\"\n",
        "        # Crea dos nuevos tensores con tamaño n_layers x batch_size x hidden_dim,\n",
        "        # inicializados a cero, para estado oculto y memoria de LSTM\n",
        "        weight = next(self.parameters()).data\n",
        "\n",
        "        if(train_on_gpu):\n",
        "          hidden = (weight.new(self.n_layers, batch_size, self.hidden_dim).zero_().cuda(),\n",
        "                   weight.new(self.n_layers, batch_size, self.hidden_dim).zero_().cuda())\n",
        "        else:\n",
        "          hidden = (weight.new(self.n_layers, batch_size, self.hidden_dim).zero_(),\n",
        "                   weight.new(self.n_layers, batch_size, self.hidden_dim).zero_())\n",
        "\n",
        "        return hidden"
      ],
      "metadata": {
        "id": "T3amSRw7QSHD"
      },
      "execution_count": 29,
      "outputs": []
    },
    {
      "cell_type": "markdown",
      "source": [
        "Para instanciar la red neuronal diseñada previamente se tuvieron que definir los parámetros de entrada los cuales definen la configuración y arquitectura específica de la red para el procesamiento de los datos. El `vocab_size`, calculado como la longitud del vocabulario más uno para incluir el padding y los tokens de palabras, determina el tamaño del espacio de embeddings y, por ende, la diversidad de palabras consideradas. El `output_size` se establece en 1, indicando que la red se usará para una tarea de clasificación binaria, la detección de spam. Los valores de `embedding_dim` y `hidden_dim`, fijados ambos en 32, definen las dimensiones del espacio de embeddings y del estado oculto de la red respectivamente, determinando la complejidad y capacidad de representación del modelo. Por último, `n_layers`, configurado en 4, especifica el número de capas que compondrán la red neuronal, influyendo en su profundidad y capacidad de aprendizaje de patrones complejos en los datos.\n",
        "\n",
        "Se experimentó con la variación de los parámetros `embedding_dim`, `hidden_dim` y `n_layers`. La selección de estos valores se basó en buscar un equilibrio óptimo entre el rendimiento efectivo del modelo y el uso eficiente de los recursos computacionales disponibles."
      ],
      "metadata": {
        "id": "GbV3D4FXclWq"
      }
    },
    {
      "cell_type": "code",
      "source": [
        "# Instanciamos la red\n",
        "\n",
        "# Parámetros\n",
        "vocab_size = len(vocab_to_int) + 1 # +1 for zero padding + our word tokens\n",
        "output_size = 1\n",
        "embedding_dim = 32\n",
        "hidden_dim = 32\n",
        "n_layers = 4\n",
        "\n",
        "# Creación de la red neuronal\n",
        "net = SpamRNN(vocab_size, output_size, embedding_dim, hidden_dim, n_layers)\n",
        "print(net)"
      ],
      "metadata": {
        "colab": {
          "base_uri": "https://localhost:8080/"
        },
        "id": "YYJ5m6IV0ZW-",
        "outputId": "cc7ef86d-44f9-4d12-8376-1c9ad1f2c0d4"
      },
      "execution_count": 30,
      "outputs": [
        {
          "output_type": "stream",
          "name": "stdout",
          "text": [
            "SpamRNN(\n",
            "  (embedding): Embedding(9197, 32)\n",
            "  (lstm): LSTM(32, 32, num_layers=4, batch_first=True, dropout=0.5)\n",
            "  (dropout): Dropout(p=0.5, inplace=False)\n",
            "  (fc): Linear(in_features=32, out_features=1, bias=True)\n",
            "  (sig): Sigmoid()\n",
            ")\n"
          ]
        }
      ]
    },
    {
      "cell_type": "markdown",
      "source": [
        "### Entrenamiento"
      ],
      "metadata": {
        "id": "KSZKbuUH0jrn"
      }
    },
    {
      "cell_type": "markdown",
      "source": [
        "Para implementar el entrenamiento de la red neuronal diseñada se tuvieron que definir algunos de sus hiperparámetros los cuales desempeñan roles específicos para mejorar el aprendizaje del modelo. El `lr`, o tasa de aprendizaje, controla el tamaño de los ajustes aplicados a los pesos durante el entrenamiento, influyendo en la rapidez con la que la red converge hacia soluciones óptimas. La `criterion`, que representa la función de pérdida, evalúa la diferencia entre las predicciones del modelo y los valores reales, proporcionando una medida de cuán precisa es la red. Finalmente, el `optimizer`, configurado como el optimizador Adam, se encarga de ajustar los pesos de la red en función de la pérdida calculada, utilizando la tasa de aprendizaje establecida para optimizar la convergencia hacia soluciones más precisas y óptimas."
      ],
      "metadata": {
        "id": "1C2ThTU_fFnL"
      }
    },
    {
      "cell_type": "code",
      "source": [
        "# Hiperparámetros del entrenamiento de la red neuronal\n",
        "lr=0.001 # Learning rate\n",
        "criterion = nn.BCELoss() # Función de pérdidas\n",
        "optimizer = torch.optim.Adam(net.parameters(), lr=lr) # Método de optimización"
      ],
      "metadata": {
        "id": "V-aR5Who0lXd"
      },
      "execution_count": 31,
      "outputs": []
    },
    {
      "cell_type": "code",
      "source": [
        "# Parámetros de entrenamiento\n",
        "epochs = 4\n",
        "\n",
        "counter = 0\n",
        "print_every = 100\n",
        "clip=5 # Gradient clipping\n",
        "\n",
        "# Enviar red al GPU\n",
        "if(train_on_gpu):\n",
        "    net.cuda()\n",
        "\n",
        "# Inicio de entrenamiento\n",
        "net.train()\n",
        "# Bucle de entrenamiento\n",
        "for e in range(epochs):\n",
        "    # Inicializar estado oculto\n",
        "    h = net.init_hidden(batch_size)\n",
        "\n",
        "    # Bucle para batches\n",
        "    for inputs, labels in train_loader:\n",
        "        counter += 1\n",
        "\n",
        "        if(train_on_gpu):\n",
        "            inputs, labels = inputs.cuda(), labels.cuda()\n",
        "\n",
        "        # Crear nuevas variables para estados ocultos, sino se haría\n",
        "        # backprop para todos los pasos del bucle\n",
        "        h = tuple([each.data for each in h])\n",
        "\n",
        "        net.zero_grad()\n",
        "\n",
        "        # Hacer pasada forward\n",
        "        output, h = net(inputs, h)\n",
        "\n",
        "        # Calcular loss y hacer backprop\n",
        "        loss = criterion(output.squeeze(), labels.float())\n",
        "        loss.backward()\n",
        "        # gradient clipping\n",
        "        nn.utils.clip_grad_norm_(net.parameters(), clip)\n",
        "        optimizer.step()\n",
        "\n",
        "        # Mensajes\n",
        "        if counter % print_every == 0:\n",
        "            # Validation loss\n",
        "            val_h = net.init_hidden(batch_size)\n",
        "            val_losses = []\n",
        "            net.eval()\n",
        "            for inputs, labels in valid_loader:\n",
        "\n",
        "                val_h = tuple([each.data for each in val_h])\n",
        "\n",
        "                if(train_on_gpu):\n",
        "                    inputs, labels = inputs.cuda(), labels.cuda()\n",
        "\n",
        "                output, val_h = net(inputs, val_h)\n",
        "                val_loss = criterion(output.squeeze(), labels.float())\n",
        "\n",
        "                val_losses.append(val_loss.item())\n",
        "\n",
        "            net.train()\n",
        "            print(\"Época: {}/{}...\".format(e+1, epochs),\n",
        "                  \"Paso: {}...\".format(counter),\n",
        "                  \"Loss: {:.6f}...\".format(loss.item()),\n",
        "                  \"Val Loss: {:.6f}\".format(np.mean(val_losses)))"
      ],
      "metadata": {
        "id": "ootGfDVmdR0d",
        "colab": {
          "base_uri": "https://localhost:8080/"
        },
        "outputId": "aac32071-5058-47be-ac30-c4a06694008f"
      },
      "execution_count": 32,
      "outputs": [
        {
          "output_type": "stream",
          "name": "stdout",
          "text": [
            "Época: 1/4... Paso: 100... Loss: 0.202755... Val Loss: 0.413770\n",
            "Época: 1/4... Paso: 200... Loss: 0.214990... Val Loss: 0.407546\n",
            "Época: 1/4... Paso: 300... Loss: 0.985260... Val Loss: 0.407120\n",
            "Época: 1/4... Paso: 400... Loss: 0.164052... Val Loss: 0.407018\n",
            "Época: 1/4... Paso: 500... Loss: 0.131785... Val Loss: 0.407254\n",
            "Época: 1/4... Paso: 600... Loss: 0.128321... Val Loss: 0.408077\n",
            "Época: 1/4... Paso: 700... Loss: 0.165827... Val Loss: 0.409657\n",
            "Época: 1/4... Paso: 800... Loss: 0.213870... Val Loss: 0.407896\n",
            "Época: 1/4... Paso: 900... Loss: 0.147851... Val Loss: 0.415872\n",
            "Época: 1/4... Paso: 1000... Loss: 0.201805... Val Loss: 0.407661\n",
            "Época: 1/4... Paso: 1100... Loss: 0.212983... Val Loss: 0.407572\n",
            "Época: 1/4... Paso: 1200... Loss: 0.124233... Val Loss: 0.407108\n",
            "Época: 1/4... Paso: 1300... Loss: 0.166929... Val Loss: 0.407249\n",
            "Época: 1/4... Paso: 1400... Loss: 0.299484... Val Loss: 0.407505\n",
            "Época: 1/4... Paso: 1500... Loss: 0.181145... Val Loss: 0.407125\n",
            "Época: 1/4... Paso: 1600... Loss: 1.818922... Val Loss: 0.411455\n",
            "Época: 1/4... Paso: 1700... Loss: 0.102656... Val Loss: 0.414293\n",
            "Época: 2/4... Paso: 1800... Loss: 0.094787... Val Loss: 0.407383\n",
            "Época: 2/4... Paso: 1900... Loss: 0.160671... Val Loss: 0.407996\n",
            "Época: 2/4... Paso: 2000... Loss: 1.950306... Val Loss: 0.408372\n",
            "Época: 2/4... Paso: 2100... Loss: 0.086444... Val Loss: 0.410492\n",
            "Época: 2/4... Paso: 2200... Loss: 0.142883... Val Loss: 0.411381\n",
            "Época: 2/4... Paso: 2300... Loss: 0.212572... Val Loss: 0.409690\n",
            "Época: 2/4... Paso: 2400... Loss: 1.187850... Val Loss: 0.407801\n",
            "Época: 2/4... Paso: 2500... Loss: 0.092336... Val Loss: 0.416217\n",
            "Época: 2/4... Paso: 2600... Loss: 0.124662... Val Loss: 0.411123\n",
            "Época: 2/4... Paso: 2700... Loss: 0.084024... Val Loss: 0.410217\n",
            "Época: 2/4... Paso: 2800... Loss: 0.131929... Val Loss: 0.409576\n",
            "Época: 2/4... Paso: 2900... Loss: 1.309844... Val Loss: 0.413286\n",
            "Época: 2/4... Paso: 3000... Loss: 0.917627... Val Loss: 0.411406\n",
            "Época: 2/4... Paso: 3100... Loss: 0.163350... Val Loss: 0.410070\n",
            "Época: 2/4... Paso: 3200... Loss: 1.121856... Val Loss: 0.412863\n",
            "Época: 2/4... Paso: 3300... Loss: 1.901893... Val Loss: 0.409949\n",
            "Época: 2/4... Paso: 3400... Loss: 0.118210... Val Loss: 0.409280\n",
            "Época: 3/4... Paso: 3500... Loss: 0.148911... Val Loss: 0.416977\n",
            "Época: 3/4... Paso: 3600... Loss: 0.171388... Val Loss: 0.408628\n",
            "Época: 3/4... Paso: 3700... Loss: 0.119604... Val Loss: 0.416384\n",
            "Época: 3/4... Paso: 3800... Loss: 0.067235... Val Loss: 0.413481\n",
            "Época: 3/4... Paso: 3900... Loss: 0.889097... Val Loss: 0.411555\n",
            "Época: 3/4... Paso: 4000... Loss: 0.081677... Val Loss: 0.419109\n",
            "Época: 3/4... Paso: 4100... Loss: 0.803342... Val Loss: 0.424839\n",
            "Época: 3/4... Paso: 4200... Loss: 0.050264... Val Loss: 0.422540\n",
            "Época: 3/4... Paso: 4300... Loss: 1.153598... Val Loss: 0.418698\n",
            "Época: 3/4... Paso: 4400... Loss: 1.118867... Val Loss: 0.411991\n",
            "Época: 3/4... Paso: 4500... Loss: 0.103542... Val Loss: 0.422978\n",
            "Época: 3/4... Paso: 4600... Loss: 0.101862... Val Loss: 0.410124\n",
            "Época: 3/4... Paso: 4700... Loss: 0.259353... Val Loss: 0.416318\n",
            "Época: 3/4... Paso: 4800... Loss: 1.264290... Val Loss: 0.410057\n",
            "Época: 3/4... Paso: 4900... Loss: 0.261772... Val Loss: 0.416216\n",
            "Época: 3/4... Paso: 5000... Loss: 0.123426... Val Loss: 0.409239\n",
            "Época: 3/4... Paso: 5100... Loss: 0.072822... Val Loss: 0.417421\n",
            "Época: 3/4... Paso: 5200... Loss: 0.144103... Val Loss: 0.418445\n",
            "Época: 4/4... Paso: 5300... Loss: 2.016300... Val Loss: 0.443241\n",
            "Época: 4/4... Paso: 5400... Loss: 0.128557... Val Loss: 0.446254\n",
            "Época: 4/4... Paso: 5500... Loss: 0.052644... Val Loss: 0.447663\n",
            "Época: 4/4... Paso: 5600... Loss: 0.206373... Val Loss: 0.425794\n",
            "Época: 4/4... Paso: 5700... Loss: 0.121815... Val Loss: 0.448161\n",
            "Época: 4/4... Paso: 5800... Loss: 0.132551... Val Loss: 0.446634\n",
            "Época: 4/4... Paso: 5900... Loss: 0.191720... Val Loss: 0.427754\n",
            "Época: 4/4... Paso: 6000... Loss: 0.682083... Val Loss: 0.427304\n",
            "Época: 4/4... Paso: 6100... Loss: 0.123893... Val Loss: 0.422089\n",
            "Época: 4/4... Paso: 6200... Loss: 0.161036... Val Loss: 0.418959\n",
            "Época: 4/4... Paso: 6300... Loss: 0.113465... Val Loss: 0.429099\n",
            "Época: 4/4... Paso: 6400... Loss: 0.094144... Val Loss: 0.422816\n",
            "Época: 4/4... Paso: 6500... Loss: 0.095515... Val Loss: 0.429094\n",
            "Época: 4/4... Paso: 6600... Loss: 0.050765... Val Loss: 0.438841\n",
            "Época: 4/4... Paso: 6700... Loss: 0.226549... Val Loss: 0.440771\n",
            "Época: 4/4... Paso: 6800... Loss: 0.269519... Val Loss: 0.473907\n",
            "Época: 4/4... Paso: 6900... Loss: 0.116062... Val Loss: 0.439009\n"
          ]
        }
      ]
    },
    {
      "cell_type": "markdown",
      "source": [
        "El entrenamiento del modelo se ejecutó a lo largo de 4 épocas, culminando con una pérdida de entrenamiento cercana a 0.11 y una pérdida de validación de alrededor de 0.43. Aunque estos valores son considerados aceptables en el proceso de entrenamiento, no son concluyentes por sí solos para evaluar el rendimiento general del modelo. La verdadera evaluación de su capacidad se debe realizar en la data de test, permitiendo determinar la capacidad de aprendizaje y generalización del modelo sobre datos no vistos previamente. Los resultados obtenidos en la data de test proporcionarán una comprensión más clara y definitiva sobre el desempeño y la capacidad de generalización del modelo entrenado."
      ],
      "metadata": {
        "id": "4LEmlv4lf6AT"
      }
    },
    {
      "cell_type": "markdown",
      "source": [
        "### Testing"
      ],
      "metadata": {
        "id": "9AWukAWw0nj5"
      }
    },
    {
      "cell_type": "code",
      "source": [
        "# Calculo del accuracy de test\n",
        "\n",
        "test_losses = [] # track loss\n",
        "num_correct = 0\n",
        "\n",
        "# Iniciar estado oculto\n",
        "h = net.init_hidden(batch_size)\n",
        "\n",
        "net.eval()\n",
        "for inputs, labels in test_loader:\n",
        "\n",
        "    h = tuple([each.data for each in h])\n",
        "\n",
        "    if(train_on_gpu):\n",
        "        inputs, labels = inputs.cuda(), labels.cuda()\n",
        "\n",
        "    output, h = net(inputs, h)\n",
        "\n",
        "    test_loss = criterion(output.squeeze(), labels.float())\n",
        "    test_losses.append(test_loss.item())\n",
        "\n",
        "    # Convertir probabilidades a clases (0,1)\n",
        "    pred = torch.round(output.squeeze())\n",
        "\n",
        "    # Comparar predicciones a labels\n",
        "    correct_tensor = pred.eq(labels.float().view_as(pred))\n",
        "    correct = np.squeeze(correct_tensor.numpy()) if not train_on_gpu else np.squeeze(correct_tensor.cpu().numpy())\n",
        "    num_correct += np.sum(correct)\n",
        "\n",
        "\n",
        "# -- stats! -- ##\n",
        "# avg test loss\n",
        "print(\"Test loss: {:.3f}\".format(np.mean(test_losses)))\n",
        "\n",
        "# Accuracy de test\n",
        "test_acc = num_correct/len(test_loader.dataset)\n",
        "print(\"Test accuracy: {:.3f}\".format(test_acc))"
      ],
      "metadata": {
        "id": "3uokiuQ5dZnW",
        "colab": {
          "base_uri": "https://localhost:8080/"
        },
        "outputId": "d37203fa-273b-4ee9-9240-842ec1dc4846"
      },
      "execution_count": 33,
      "outputs": [
        {
          "output_type": "stream",
          "name": "stdout",
          "text": [
            "Test loss: 0.374\n",
            "Test accuracy: 0.886\n"
          ]
        }
      ]
    },
    {
      "cell_type": "markdown",
      "source": [
        "Después de analizar exhaustivamente los resultados del entrenamiento y test del modelo, se ha podido evaluar su rendimiento a través de diversas métricas. Las pérdidas registradas durante el entrenamiento (0.11) y la validación (0.43) apuntan a un aprendizaje efectivo del modelo en esta fase, aunque la diferencia entre estas pérdidas sugiere una posible presencia de sobreajuste. Sin embargo, la pérdida de test (0.37) se mantiene cercana a la de validación, lo que sugiere que el modelo generaliza bien sobre datos no vistos, lo cual es confirmado por el accuracy de test del 88%. Esto indica que el modelo es capaz de predecir correctamente alrededor del 88% de las muestras en el conjunto de test, lo que es un buen indicador de su capacidad predictiva y generalización sobre datos nuevos."
      ],
      "metadata": {
        "id": "pIN9amznhmta"
      }
    }
  ]
}